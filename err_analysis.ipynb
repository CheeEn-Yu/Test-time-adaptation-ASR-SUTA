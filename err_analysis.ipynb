{
 "cells": [
  {
   "cell_type": "code",
   "execution_count": 3,
   "metadata": {},
   "outputs": [],
   "source": [
    "# import cn2an\n",
    "# from opencc import OpenCC\n",
    "# import nltk\n",
    "# from nltk import ngrams\n",
    "# cc = OpenCC('t2s')\n",
    "\n",
    "# import csv\n",
    "# from jiwer import wer\n",
    "import numpy as np\n",
    "import pandas as pd\n",
    "import matplotlib.pyplot as plt\n",
    "\n",
    "from suta import *\n",
    "exp_name = f'./ex_data/suta_accelerate_0725'"
   ]
  },
  {
   "cell_type": "code",
   "execution_count": 4,
   "metadata": {},
   "outputs": [],
   "source": [
    "import re\n",
    "import numpy as np\n",
    "# 開啟文件\n",
    "with open(f'{exp_name}/result.txt', 'r') as file:\n",
    "    # 讀取文件所有行\n",
    "    lines = file.readlines()\n",
    "\n",
    "# 初始化兩個列表\n",
    "ori_wers = []\n",
    "wer_1 = []\n",
    "wer_3 = []\n",
    "wer_5 = []\n",
    "wer_10 = []\n",
    "wer_13 = []\n",
    "wer_15 = []\n",
    "wer_18 = []\n",
    "wer_20 = []\n",
    "wer_24 = []\n",
    "wer_27 = []\n",
    "wer_30 = []\n",
    "wer_33 = []\n",
    "wer_36 = []\n",
    "wer_39 = []\n",
    "ori_transcription = []\n",
    "transcriptions_1 = []\n",
    "transcriptions_3 = []\n",
    "transcriptions_5 = []\n",
    "transcriptions_10 = []\n",
    "transcriptions_13 = []\n",
    "transcriptions_15 = []\n",
    "transcriptions_18 = []\n",
    "transcriptions_20 = []\n",
    "labels = []\n",
    "# 遍歷每一行\n",
    "for line in lines:\n",
    "    # if len(labels) == 20:\n",
    "    #     continue\n",
    "    # if len(labels) == 50:\n",
    "    #     break\n",
    "    # 刪除每行開頭和結尾的空白字符\n",
    "    line = line.strip()\n",
    "    # 使用\":\"分割該行，取第二部分作為句子\n",
    "    try:\n",
    "        sentence = line.split(':')[1]\n",
    "        match = re.search(r'\\((.*?)\\)', (line.split(':')[0]))\n",
    "        ori_value = float(match.group(1))\n",
    "    except:\n",
    "        continue\n",
    "    # 如果該行以\"ori\"開頭\n",
    "    if line.startswith('ori'):\n",
    "        # 使用\":\"分割該行，取第二部分作為ori的值\n",
    "        ori_wer = float(match.group(1))\n",
    "        # 將ori的值添加到ori_wers列表中\n",
    "        ori_wers.append(ori_wer)\n",
    "        ori_transcription.append(sentence)\n",
    "    # 如果該行以\"label\"開頭\n",
    "    elif line.startswith('label'):\n",
    "        labels.append(line.split(':')[1])\n",
    "    elif line.startswith('step0'):\n",
    "        ori_value = float(match.group(1))\n",
    "        # 將ori的值添加到ori_values列表中\n",
    "        wer_1.append(ori_value)\n",
    "        sentence = line.split(':')[1]\n",
    "        transcriptions_1.append(sentence)\n",
    "    elif line.startswith('step30'):\n",
    "        ori_value = float(match.group(1))\n",
    "        wer_30.append(ori_value)\n",
    "        print(line)\n",
    "    elif line.startswith('step33'):\n",
    "        ori_value = float(match.group(1))\n",
    "        wer_33.append(ori_value)\n",
    "    elif line.startswith('step36'):\n",
    "        ori_value = float(match.group(1))\n",
    "        wer_36.append(ori_value)\n",
    "    elif line.startswith('step39'):\n",
    "        ori_value = float(match.group(1))\n",
    "        wer_39.append(ori_value)\n",
    "    elif line.startswith('step3'):\n",
    "        ori_value = float(match.group(1))\n",
    "        # 將ori的值添加到ori_values列表中\n",
    "        wer_3.append(ori_value)\n",
    "        sentence = line.split(':')[1]\n",
    "        transcriptions_3.append(sentence)\n",
    "    elif line.startswith('step6'):\n",
    "        ori_value = float(match.group(1))\n",
    "        # 將ori的值添加到ori_values列表中\n",
    "        wer_5.append(ori_value)\n",
    "        sentence = line.split(':')[1]\n",
    "        transcriptions_5.append(sentence)\n",
    "    elif line.startswith('step9'):\n",
    "        ori_value = float(match.group(1))\n",
    "        # 將ori的值添加到ori_values列表中\n",
    "        wer_10.append(ori_value)\n",
    "        sentence = line.split(':')[1]\n",
    "        transcriptions_10.append(sentence)\n",
    "    elif line.startswith('step12'):\n",
    "        ori_value = float(match.group(1))\n",
    "        # 將ori的值添加到ori_values列表中\n",
    "        wer_13.append(ori_value)\n",
    "        sentence = line.split(':')[1]\n",
    "        transcriptions_13.append(sentence)\n",
    "    elif line.startswith('step14'):\n",
    "        ori_value = float(match.group(1))\n",
    "        # 將ori的值添加到ori_values列表中\n",
    "        wer_15.append(ori_value)\n",
    "        sentence = line.split(':')[1]\n",
    "        transcriptions_15.append(sentence)\n",
    "    elif line.startswith('step18'):\n",
    "        ori_value = float(match.group(1))\n",
    "        # 將ori的值添加到ori_values列表中\n",
    "        wer_18.append(ori_value)\n",
    "        sentence = line.split(':')[1]\n",
    "        transcriptions_18.append(sentence)\n",
    "    elif line.startswith('step21'):\n",
    "        ori_value = float(match.group(1))\n",
    "        wer_20.append(ori_value)\n",
    "        sentence = line.split(':')[1]\n",
    "        transcriptions_20.append(sentence)\n",
    "    elif line.startswith('step24'):\n",
    "        ori_value = float(match.group(1))\n",
    "        wer_24.append(ori_value)\n",
    "    elif line.startswith('step27'):\n",
    "        ori_value = float(match.group(1))\n",
    "        wer_27.append(ori_value)"
   ]
  },
  {
   "cell_type": "code",
   "execution_count": 5,
   "metadata": {},
   "outputs": [
    {
     "name": "stdout",
     "output_type": "stream",
     "text": [
      "32.94788341907528\n",
      "32.156863559929846\n",
      "31.1241289488473\n",
      "30.781903958728346\n",
      "31.02861136191298\n",
      "30.837011255106695\n",
      "30.898380443012503\n",
      "nan\n",
      "nan\n",
      "nan\n",
      "nan\n",
      "nan\n",
      "nan\n",
      "nan\n",
      "nan\n"
     ]
    },
    {
     "name": "stderr",
     "output_type": "stream",
     "text": [
      "/tmp/ipykernel_230058/885588912.py:8: RuntimeWarning: Mean of empty slice.\n",
      "  print(f'{np.array(wer_18).mean() * 100}')\n",
      "/home/allens/anaconda3/envs/tta/lib/python3.9/site-packages/numpy/core/_methods.py:129: RuntimeWarning: invalid value encountered in scalar divide\n",
      "  ret = ret.dtype.type(ret / rcount)\n",
      "/tmp/ipykernel_230058/885588912.py:9: RuntimeWarning: Mean of empty slice.\n",
      "  print(f'{np.array(wer_20).mean() * 100}')\n",
      "/tmp/ipykernel_230058/885588912.py:10: RuntimeWarning: Mean of empty slice.\n",
      "  print(f'{np.array(wer_24).mean() * 100}')\n",
      "/tmp/ipykernel_230058/885588912.py:11: RuntimeWarning: Mean of empty slice.\n",
      "  print(f'{np.array(wer_27).mean() * 100}')\n",
      "/tmp/ipykernel_230058/885588912.py:12: RuntimeWarning: Mean of empty slice.\n",
      "  print(f'{np.array(wer_30).mean() * 100}')\n",
      "/tmp/ipykernel_230058/885588912.py:13: RuntimeWarning: Mean of empty slice.\n",
      "  print(f'{np.array(wer_33).mean() * 100}')\n",
      "/tmp/ipykernel_230058/885588912.py:14: RuntimeWarning: Mean of empty slice.\n",
      "  print(f'{np.array(wer_36).mean() * 100}')\n",
      "/tmp/ipykernel_230058/885588912.py:15: RuntimeWarning: Mean of empty slice.\n",
      "  print(f'{np.array(wer_39).mean() * 100}')\n"
     ]
    }
   ],
   "source": [
    "print(f'{np.array(ori_wers).mean() * 100}')\n",
    "print(f'{np.array(wer_1).mean() * 100}')\n",
    "print(f'{np.array(wer_3).mean() * 100}')\n",
    "print(f'{np.array(wer_5).mean() * 100}')\n",
    "print(f'{np.array(wer_10).mean() * 100}')\n",
    "print(f'{np.array(wer_13).mean() * 100}')\n",
    "print(f'{np.array(wer_15).mean() * 100}')\n",
    "print(f'{np.array(wer_18).mean() * 100}')\n",
    "print(f'{np.array(wer_20).mean() * 100}')\n",
    "print(f'{np.array(wer_24).mean() * 100}')\n",
    "print(f'{np.array(wer_27).mean() * 100}')\n",
    "print(f'{np.array(wer_30).mean() * 100}')\n",
    "print(f'{np.array(wer_33).mean() * 100}')\n",
    "print(f'{np.array(wer_36).mean() * 100}')\n",
    "print(f'{np.array(wer_39).mean() * 100}')"
   ]
  },
  {
   "cell_type": "code",
   "execution_count": 15,
   "metadata": {},
   "outputs": [
    {
     "data": {
      "text/plain": [
       "[]"
      ]
     },
     "execution_count": 15,
     "metadata": {},
     "output_type": "execute_result"
    }
   ],
   "source": [
    "wer_18"
   ]
  },
  {
   "cell_type": "code",
   "execution_count": 16,
   "metadata": {},
   "outputs": [
    {
     "name": "stdout",
     "output_type": "stream",
     "text": [
      "26.890436809023992\n"
     ]
    }
   ],
   "source": [
    "best_wers = [min(wer_1[i], wer_3[i],wer_5[i],wer_10[i],wer_13[i],wer_15[i]) for i in range(len(wer_15))]\n",
    "# best_wers = [ min(ori_wers[i], wer_1[i], wer_3[i],wer_5[i],wer_10[i]) for i in range(len(wer_1))]\n",
    "# best_wers = [ min(wer_1[i], wer_3[i],wer_5[i],wer_10[i]) for i in range(len(wer_1))]\n",
    "print(np.array(best_wers).mean() * 100)"
   ]
  },
  {
   "cell_type": "code",
   "execution_count": 17,
   "metadata": {},
   "outputs": [],
   "source": [
    "up_count = 0\n",
    "down_count = 0\n",
    "no_change = 0\n",
    "for i in range(len(wer_1)):\n",
    "    if best_wers[i] < ori_wers[i]:\n",
    "        up_count +=1\n",
    "    elif best_wers[i] > ori_wers[i]:\n",
    "        down_count+=1\n",
    "    else:\n",
    "        no_change+=1"
   ]
  },
  {
   "cell_type": "code",
   "execution_count": 18,
   "metadata": {},
   "outputs": [
    {
     "name": "stdout",
     "output_type": "stream",
     "text": [
      "1158\n",
      "187\n",
      "1594\n"
     ]
    }
   ],
   "source": [
    "print(up_count)\n",
    "print(down_count)\n",
    "print(no_change)"
   ]
  },
  {
   "cell_type": "code",
   "execution_count": 5,
   "metadata": {},
   "outputs": [
    {
     "data": {
      "text/plain": [
       "2.020408163265306"
      ]
     },
     "execution_count": 5,
     "metadata": {},
     "output_type": "execute_result"
    }
   ],
   "source": [
    "step_wers = [(wer_1[i], wer_3[i],wer_5[i],wer_10[i],wer_13[i],wer_15[i],wer_18[i],wer_20[i]) for i in range(len(wer_1))]\n",
    "best_wer_index = [step_wers[i].index(best_wers[i]) for i in range(len(wer_1))]\n",
    "idx_sum = 0\n",
    "for idx in best_wer_index:\n",
    "    if idx == 0:\n",
    "        idx_sum+=1\n",
    "    elif idx == 2:\n",
    "        idx_sum+=7\n",
    "    elif idx == 1:\n",
    "        idx_sum+=4\n",
    "    elif idx == 3:\n",
    "        idx_sum+=10\n",
    "    elif idx == 6:\n",
    "        idx_sum+=18\n",
    "\n",
    "idx_sum/len(wer_1)"
   ]
  },
  {
   "cell_type": "code",
   "execution_count": 13,
   "metadata": {},
   "outputs": [
    {
     "data": {
      "text/plain": [
       "2.816326530612245"
      ]
     },
     "execution_count": 13,
     "metadata": {},
     "output_type": "execute_result"
    }
   ],
   "source": [
    "idx_sum = 0\n",
    "for idx in best_wer_index:\n",
    "    if idx == 0:\n",
    "        idx_sum+=1\n",
    "    elif idx == 2:\n",
    "        idx_sum+=7\n",
    "    elif idx == 1:\n",
    "        idx_sum+=4\n",
    "    elif idx == 3:\n",
    "        idx_sum+=10\n",
    "    elif idx == 6:\n",
    "        idx_sum+=18\n",
    "\n",
    "idx_sum/len(wer_1)\n"
   ]
  },
  {
   "cell_type": "code",
   "execution_count": 6,
   "metadata": {},
   "outputs": [
    {
     "name": "stderr",
     "output_type": "stream",
     "text": [
      "/home/allens/anaconda3/envs/tta/lib/python3.9/site-packages/numpy/lib/histograms.py:885: RuntimeWarning: invalid value encountered in divide\n",
      "  return n/db/n.sum(), bin_edges\n",
      "/home/allens/anaconda3/envs/tta/lib/python3.9/site-packages/numpy/core/_methods.py:206: RuntimeWarning: Degrees of freedom <= 0 for slice\n",
      "  ret = _var(a, axis=axis, dtype=dtype, out=out, ddof=ddof,\n",
      "/home/allens/anaconda3/envs/tta/lib/python3.9/site-packages/numpy/core/_methods.py:163: RuntimeWarning: invalid value encountered in divide\n",
      "  arrmean = um.true_divide(arrmean, div, out=arrmean,\n",
      "/home/allens/anaconda3/envs/tta/lib/python3.9/site-packages/numpy/core/_methods.py:198: RuntimeWarning: invalid value encountered in scalar divide\n",
      "  ret = ret.dtype.type(ret / rcount)\n",
      "/home/allens/anaconda3/envs/tta/lib/python3.9/site-packages/numpy/core/fromnumeric.py:3504: RuntimeWarning: Mean of empty slice.\n",
      "  return _methods._mean(a, axis=axis, dtype=dtype,\n",
      "/home/allens/anaconda3/envs/tta/lib/python3.9/site-packages/numpy/core/fromnumeric.py:3787: RuntimeWarning: Degrees of freedom <= 0 for slice\n",
      "  return _methods._var(a, axis=axis, dtype=dtype, out=out, ddof=ddof,\n"
     ]
    },
    {
     "data": {
      "image/png": "[encoded data removed]",
      "text/plain": [
       "<Figure size 640x480 with 1 Axes>"
      ]
     },
     "metadata": {},
     "output_type": "display_data"
    },
    {
     "name": "stderr",
     "output_type": "stream",
     "text": [
      "/tmp/ipykernel_1566229/2743505789.py:35: RuntimeWarning: Mean of empty slice.\n",
      "  werr_list.mean()\n"
     ]
    },
    {
     "data": {
      "text/plain": [
       "nan"
      ]
     },
     "execution_count": 6,
     "metadata": {},
     "output_type": "execute_result"
    }
   ],
   "source": [
    "import matplotlib.pyplot as plt\n",
    "import numpy as np\n",
    "from whisper.normalizers import EnglishTextNormalizer\n",
    "normalizer = EnglishTextNormalizer()\n",
    "werr_list = []\n",
    "for i in range(len(transcriptions_20)):\n",
    "    wer_list = wer_10\n",
    "    try:\n",
    "        werr = (ori_wers[i] - wer_list[i])/ori_wers[i]\n",
    "    except:\n",
    "        if wer_list[i] != 0:\n",
    "            werr = 1\n",
    "        else:\n",
    "            werr = 0\n",
    "    werr_list.append(werr)\n",
    "    if werr < -0.5:\n",
    "        print(normalizer(sentences[i]))\n",
    "        print(normalizer(transcriptions_10[i]))\n",
    "\n",
    "# 绘制直方图\n",
    "plt.hist(werr_list, bins=30, density=True, alpha=0.7, color='blue', edgecolor='black')\n",
    "plt.title('WERR reduction distribution')\n",
    "plt.xlabel('WERR')\n",
    "plt.ylabel('Density')\n",
    "\n",
    "# # 绘制密度估计图\n",
    "werr_list = np.array(werr_list)\n",
    "density, bins, _ = plt.hist(werr_list, bins=30, density=True, alpha=0)\n",
    "plt.plot(bins, 1/(np.sqrt(2*np.pi)*np.std(werr_list)) * np.exp(-0.5*(bins-np.mean(werr_list))**2/np.var(werr_list)), color='red')\n",
    "plt.title('WERR reduction distribution')\n",
    "plt.xlabel('WERR')\n",
    "plt.ylabel('Density')\n",
    "plt.show()\n",
    "\n",
    "werr_list.mean()\n"
   ]
  },
  {
   "cell_type": "code",
   "execution_count": 68,
   "metadata": {},
   "outputs": [],
   "source": [
    "from whisper.normalizers import EnglishTextNormalizer\n",
    "import jiwer\n",
    "normalizer = EnglishTextNormalizer()\n",
    "\n",
    "def find_different_words(sentence1, sentence2):\n",
    "    # 分解句子为单词列表\n",
    "    words1 = set(normalizer(sentence1).split())\n",
    "    words2 = set(normalizer(sentence2).split())\n",
    "    \n",
    "    # 找出不同的单词\n",
    "    different_words = words2 - words1\n",
    "    original_words = words1 - words2\n",
    "    return original_words, different_words\n",
    "\n",
    "subs = []\n",
    "inss = []\n",
    "dels = []\n",
    "with open('./err_analysis.txt', 'w' ) as f:\n",
    "    for i in range(len(ori_transcription)):\n",
    "        result = jiwer.compute_measures(normalizer(ori_transcription[i]), normalizer(transcriptions_20[i]))\n",
    "        # 打印结果\n",
    "        print(\"WERR:\", jiwer.wer(normalizer(sentences[i]), normalizer(ori_transcription[i])) - jiwer.wer(normalizer(sentences[i]), normalizer(transcriptions_10[i])), file=f)  # WER表示单词错误率\n",
    "        print(\"Substitutions:\", result['substitutions'], file=f)  # 替换的单词列表\n",
    "        print(\"Insertions:\", result['insertions'], file=f)  # 插入的单词列表\n",
    "        print(\"Deletions:\", result['deletions'], file=f)  # 删除的单词列表\n",
    "        print(f\"label:{sentences[i]}\", file=f)\n",
    "        print(f\"original_sentence:{ori_transcription[i]}\", file=f)\n",
    "        print(f\"adapted_sentence:{transcriptions_20[i]}\", file=f)\n",
    "        subs.append(result['substitutions'])\n",
    "        inss.append(result['insertions'])\n",
    "        dels.append(result['deletions'])\n",
    "        # print(\"Ref:\", result['alignment']['true'])  # 参考文本中的单词列表\n",
    "        # print(\"Hyp:\", result['alignment']['pred'])  # 预测文本中的单词列表\n",
    "        # f.write(sentences[i]+'\\n')\n",
    "        # f.write(normalizer(ori_transcription[i])+'\\n')\n",
    "        # f.write(normalizer(transcriptions_10[i])+'\\n')\n",
    "        f.write('original wrong words:'+str(find_different_words(normalizer(sentences[i]), normalizer(ori_transcription[i])))+'\\n')\n",
    "        f.write('adapt words:'+str(find_different_words(normalizer(ori_transcription[i]), normalizer(transcriptions_20[i])))+'\\n')\n",
    "        f.write('=======================================\\n')"
   ]
  },
  {
   "cell_type": "code",
   "execution_count": 69,
   "metadata": {},
   "outputs": [
    {
     "name": "stdout",
     "output_type": "stream",
     "text": [
      "3.877551020408163\n",
      "0.5306122448979592\n",
      "0.46938775510204084\n"
     ]
    }
   ],
   "source": [
    "print(np.array(subs).mean())\n",
    "print(np.array(inss).mean())\n",
    "print(np.array(dels).mean())"
   ]
  },
  {
   "cell_type": "code",
   "execution_count": 5,
   "metadata": {},
   "outputs": [],
   "source": [
    "data = pd.read_csv('./ex_data/csv/tiny.en_librispeech_2.5_noise_0.01_lr_2e-05_EMcoef_0.3_encoderOnly_None_decoderOnly_decoderOnly_topk_30_beam_2.csv')"
   ]
  },
  {
   "cell_type": "code",
   "execution_count": 7,
   "metadata": {},
   "outputs": [],
   "source": [
    "from whisper.normalizers import EnglishTextNormalizer\n",
    "import jiwer\n",
    "normalizer = EnglishTextNormalizer()\n",
    "\n",
    "data[\"before_adapt_clean\"] = [normalizer(text) for text in data[\"before_adapt\"]]\n",
    "data[\"step1_clean\"] = [normalizer(text) for text in data[\"step1\"]]\n",
    "data[\"step3_clean\"] = [normalizer(text) for text in data[\"step3\"]]\n",
    "data[\"step5_clean\"] = [normalizer(text) for text in data[\"step5\"]]\n",
    "data[\"step10_clean\"] = [normalizer(text) for text in data[\"step10\"]]\n",
    "data[\"reference_clean\"] = [normalizer(text) for text in data[\"reference\"]]"
   ]
  },
  {
   "cell_type": "code",
   "execution_count": 23,
   "metadata": {},
   "outputs": [
    {
     "data": {
      "image/png": "[encoded data removed]",
      "text/plain": [
       "<Figure size 640x480 with 1 Axes>"
      ]
     },
     "metadata": {},
     "output_type": "display_data"
    }
   ],
   "source": [
    "import matplotlib.pyplot as plt\n",
    "import numpy as np\n",
    "werr_list = []\n",
    "for i in range(len(data['step10_clean'])):\n",
    "    ori_wer = jiwer.wer(data['reference_clean'][i], data['before_adapt_clean'][i])\n",
    "    adapt_wer = jiwer.wer(data['reference_clean'][i], data['step10_clean'][i])\n",
    "    try:\n",
    "        werr = (ori_wer - adapt_wer)/ori_wer\n",
    "    except:\n",
    "        if adapt_wer != 0:\n",
    "            werr = 1\n",
    "        else:\n",
    "            werr = 0\n",
    "    werr_list.append(werr)\n",
    "\n",
    "# 绘制直方图\n",
    "plt.hist(werr_list, bins=30, density=True, alpha=0.7, color='blue', edgecolor='black')\n",
    "plt.title('Histogram')\n",
    "plt.xlabel('Value')\n",
    "plt.ylabel('Frequency')\n",
    "\n",
    "# 绘制密度估计图\n",
    "werr_list = np.array(werr_list)\n",
    "density, bins, _ = plt.hist(werr_list, bins=30, density=True, alpha=0)\n",
    "plt.plot(bins, 1/(np.sqrt(2*np.pi)*np.std(werr_list)) * np.exp(-0.5*(bins-np.mean(werr_list))**2/np.var(werr_list)), color='red')\n",
    "plt.title('Density Estimation')\n",
    "plt.xlabel('Value')\n",
    "plt.ylabel('Density')\n",
    "\n",
    "plt.show()\n"
   ]
  },
  {
   "cell_type": "code",
   "execution_count": 19,
   "metadata": {},
   "outputs": [],
   "source": [
    "\n",
    "data[\"before_adapt_clean\"] = [cn2an.transform(cc.convert(text) ,\"an2cn\") for count, text in enumerate(data[\"before_adapt\"]) ]\n",
    "data[\"step1_clean\"] = [cn2an.transform(cc.convert(text) ,\"an2cn\") for count, text in enumerate(data[\"step1\"]) ]\n",
    "data[\"step3_clean\"] = [cn2an.transform(cc.convert(text) ,\"an2cn\") for count, text in enumerate(data[\"step3\"]) ]\n",
    "data[\"step5_clean\"] = [cn2an.transform(cc.convert(text) ,\"an2cn\") for count, text in enumerate(data[\"step5\"]) ]\n",
    "data[\"step10_clean\"] = [cn2an.transform(cc.convert(text) ,\"an2cn\") for count, text in enumerate(data[\"step10\"]) ]"
   ]
  },
  {
   "cell_type": "code",
   "execution_count": 24,
   "metadata": {},
   "outputs": [],
   "source": [
    "data = data.drop(data.index[1000:])"
   ]
  },
  {
   "cell_type": "code",
   "execution_count": 20,
   "metadata": {},
   "outputs": [
    {
     "data": {
      "text/plain": [
       "[0.2832350285533367,\n",
       " 0.28370407720540813,\n",
       " 0.2835750888260885,\n",
       " 0.28351645774457956,\n",
       " 0.2834695528793724]"
      ]
     },
     "execution_count": 20,
     "metadata": {},
     "output_type": "execute_result"
    }
   ],
   "source": [
    "wer_list = []\n",
    "wer_list.append(jiwer.cer(list(data[\"reference\"]), list(data[\"before_adapt\"])))\n",
    "wer_list.append(jiwer.cer(list(data[\"reference\"]), list(data[\"step1\"])))\n",
    "wer_list.append(jiwer.cer(list(data[\"reference\"]), list(data[\"step3\"])))\n",
    "wer_list.append(jiwer.cer(list(data[\"reference\"]), list(data[\"step5\"])))\n",
    "wer_list.append(jiwer.cer(list(data[\"reference\"]), list(data[\"step10\"])))\n",
    "wer_list"
   ]
  },
  {
   "cell_type": "code",
   "execution_count": 25,
   "metadata": {},
   "outputs": [
    {
     "data": {
      "text/plain": [
       "[0.20610687022900764,\n",
       " 0.20593138545231202,\n",
       " 0.20610687022900764,\n",
       " 0.20593138545231202,\n",
       " 0.20601912784065982]"
      ]
     },
     "execution_count": 25,
     "metadata": {},
     "output_type": "execute_result"
    }
   ],
   "source": [
    "wer_list = []\n",
    "wer_list.append(jiwer.cer(list(data[\"reference\"]), list(data[\"before_adapt_clean\"])))\n",
    "wer_list.append(jiwer.cer(list(data[\"reference\"]), list(data[\"step1_clean\"])))\n",
    "wer_list.append(jiwer.cer(list(data[\"reference\"]), list(data[\"step3_clean\"])))\n",
    "wer_list.append(jiwer.cer(list(data[\"reference\"]), list(data[\"step5_clean\"])))\n",
    "wer_list.append(jiwer.cer(list(data[\"reference\"]), list(data[\"step10_clean\"])))\n",
    "wer_list"
   ]
  },
  {
   "cell_type": "code",
   "execution_count": 35,
   "metadata": {},
   "outputs": [
    {
     "data": {
      "text/plain": [
       "0.23161260149199947"
      ]
     },
     "execution_count": 35,
     "metadata": {},
     "output_type": "execute_result"
    }
   ],
   "source": [
    "jiwer.cer(list(data[\"reference\"]), list(data[\"hypothesis_clean\"]))"
   ]
  },
  {
   "cell_type": "code",
   "execution_count": null,
   "metadata": {},
   "outputs": [],
   "source": [
    "for i in range(5000):\n",
    "    print(str(i)+':'+tokenizer.decode([i]))"
   ]
  }
 ],
 "metadata": {
  "kernelspec": {
   "display_name": "tta",
   "language": "python",
   "name": "python3"
  },
  "language_info": {
   "codemirror_mode": {
    "name": "ipython",
    "version": 3
   },
   "file_extension": ".py",
   "mimetype": "text/x-python",
   "name": "python",
   "nbconvert_exporter": "python",
   "pygments_lexer": "ipython3",
   "version": "3.9.18"
  }
 },
 "nbformat": 4,
 "nbformat_minor": 2
}
