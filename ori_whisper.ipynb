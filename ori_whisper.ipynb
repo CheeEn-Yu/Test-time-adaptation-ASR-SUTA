{
 "cells": [
  {
   "cell_type": "code",
   "execution_count": 1,
   "metadata": {},
   "outputs": [],
   "source": [
    "import os\n",
    "import numpy as np\n",
    "\n",
    "import torch\n",
    "import pandas as pd\n",
    "import whisper\n",
    "import torchaudio\n",
    "from whisper.audio import (\n",
    "    log_mel_spectrogram,\n",
    "    pad_or_trim,\n",
    ")\n",
    "from tqdm import tqdm\n",
    "from jiwer import wer\n",
    "from data import *\n",
    "from suta import *\n",
    "\n",
    "from omegaconf import OmegaConf\n",
    "args = OmegaConf.load(\"config.yaml\")\n",
    "DEVICE = \"cuda\" if torch.cuda.is_available() else \"cpu\""
   ]
  },
  {
   "cell_type": "code",
   "execution_count": 2,
   "metadata": {},
   "outputs": [
    {
     "name": "stderr",
     "output_type": "stream",
     "text": [
      "Read text: 100%|██████████| 2939/2939 [00:00<00:00, 76211.04it/s]"
     ]
    },
    {
     "name": "stdout",
     "output_type": "stream",
     "text": [
      "[INFO]    There are 2939 samples.\n"
     ]
    },
    {
     "name": "stderr",
     "output_type": "stream",
     "text": [
      "\n"
     ]
    }
   ],
   "source": [
    "dataset = load_dataset(['test-other'], 'librispeech', 'LibriSpeech', 1, extra_noise=0.01)"
   ]
  },
  {
   "cell_type": "code",
   "execution_count": 3,
   "metadata": {},
   "outputs": [],
   "source": [
    "model = whisper.load_model(\"tiny\")"
   ]
  },
  {
   "cell_type": "code",
   "execution_count": 4,
   "metadata": {},
   "outputs": [],
   "source": [
    "options = whisper.DecodingOptions(language=\"en\", without_timestamps=True, temperature=0)"
   ]
  },
  {
   "cell_type": "code",
   "execution_count": 21,
   "metadata": {},
   "outputs": [
    {
     "name": "stderr",
     "output_type": "stream",
     "text": [
      "  0%|          | 1/2939 [00:00<19:21,  2.53it/s]"
     ]
    },
    {
     "name": "stdout",
     "output_type": "stream",
     "text": [
      "['I am willing to enter into competition with the agents and feel able to surpass them. For some sense, early days in which I made the medals of Pope Clemens, I have learned so much that I can now produce far better pieces of the kind. I think I can also outdo the coins I struck for Duke Alexander, which are still held in high esteem. In life manner, I could make the new large pieces of gold and silver plates. As I did so often for that noble monor, two Francis of France. Thanks to the great conveniences he allowed me, without ever losing time.']\n",
      "0.20168067226890757\n"
     ]
    },
    {
     "name": "stderr",
     "output_type": "stream",
     "text": [
      "\n"
     ]
    }
   ],
   "source": [
    "hypotheses = []\n",
    "references = []\n",
    "from whisper.normalizers import EnglishTextNormalizer\n",
    "\n",
    "normalizer = EnglishTextNormalizer()\n",
    "count = 0\n",
    "for batch in tqdm(dataset):\n",
    "    count+=1\n",
    "    if count > 1:\n",
    "        break\n",
    "    lens, wavs, texts, files = batch\n",
    "    # the code is for batch size = 1\n",
    "    if args.asr == 'large' or args.asr == 'large_v2' or args.asr == 'large_v3':\n",
    "        mel = log_mel_spectrogram(pad_or_trim(wavs[0]), n_mels=128).unsqueeze(0).to(DEVICE)\n",
    "    else:\n",
    "        mel = log_mel_spectrogram(pad_or_trim(wavs[0])).unsqueeze(0).to(DEVICE)\n",
    "    with torch.no_grad():\n",
    "        results = model.decode(mel, options)\n",
    "    print([result.text for result in results])\n",
    "    print(wer(normalizer(texts[0]), normalizer(results[0].text)))"
   ]
  },
  {
   "cell_type": "code",
   "execution_count": null,
   "metadata": {},
   "outputs": [],
   "source": []
  }
 ],
 "metadata": {
  "kernelspec": {
   "display_name": "tta",
   "language": "python",
   "name": "python3"
  },
  "language_info": {
   "codemirror_mode": {
    "name": "ipython",
    "version": 3
   },
   "file_extension": ".py",
   "mimetype": "text/x-python",
   "name": "python",
   "nbconvert_exporter": "python",
   "pygments_lexer": "ipython3",
   "version": "3.9.18"
  }
 },
 "nbformat": 4,
 "nbformat_minor": 2
}
