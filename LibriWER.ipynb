{
 "cells": [
  {
   "cell_type": "code",
   "execution_count": 1,
   "metadata": {},
   "outputs": [
    {
     "name": "stderr",
     "output_type": "stream",
     "text": [
      "/home/allens/anaconda3/envs/tta/lib/python3.9/site-packages/tqdm/auto.py:21: TqdmWarning: IProgress not found. Please update jupyter and ipywidgets. See https://ipywidgets.readthedocs.io/en/stable/user_install.html\n",
      "  from .autonotebook import tqdm as notebook_tqdm\n"
     ]
    }
   ],
   "source": [
    "import os\n",
    "import numpy as np\n",
    "import pandas as pd\n",
    "\n",
    "import torch\n",
    "import torchaudio\n",
    "import torch.nn.functional as F\n",
    "from torch import nn\n",
    "import whisper\n",
    "from whisper.audio import (\n",
    "    log_mel_spectrogram,\n",
    "    pad_or_trim,\n",
    ")\n",
    "import jiwer\n",
    "from tqdm import tqdm\n",
    "from main import *\n",
    "\n",
    "DEVICE = \"cuda\" if torch.cuda.is_available() else \"cpu\""
   ]
  },
  {
   "cell_type": "code",
   "execution_count": 2,
   "metadata": {},
   "outputs": [],
   "source": [
    "class LibriSpeech(torch.utils.data.Dataset):\n",
    "    \"\"\"\n",
    "    A simple class to wrap LibriSpeech and trim/pad the audio to 30 seconds.\n",
    "    It will drop the last few seconds of a very small portion of the utterances.\n",
    "    \"\"\"\n",
    "    def __init__(self, split=\"test-clean\", device=DEVICE):\n",
    "        self.dataset = torchaudio.datasets.LIBRISPEECH(\n",
    "            root=os.path.expanduser(\"~/.cache\"),\n",
    "            url=split,\n",
    "            download=True,\n",
    "        )\n",
    "        self.device = device\n",
    "\n",
    "    def __len__(self):\n",
    "        return len(self.dataset)\n",
    "\n",
    "    def __getitem__(self, item):\n",
    "        audio, sample_rate, text, _, _, _ = self.dataset[item]\n",
    "        assert sample_rate == 16000\n",
    "        audio = pad_or_trim(audio.flatten()).to(self.device)\n",
    "        mel = log_mel_spectrogram(audio)\n",
    "        \n",
    "        return (mel, text)"
   ]
  },
  {
   "cell_type": "code",
   "execution_count": 3,
   "metadata": {},
   "outputs": [],
   "source": [
    "dataset = LibriSpeech(\"test-clean\")\n",
    "loader = torch.utils.data.DataLoader(dataset, batch_size=1)"
   ]
  },
  {
   "cell_type": "code",
   "execution_count": 4,
   "metadata": {},
   "outputs": [
    {
     "name": "stdout",
     "output_type": "stream",
     "text": [
      "Model has 37,184,256 parameters.\n"
     ]
    }
   ],
   "source": [
    "model = whisper.load_model(\"tiny.en\")\n",
    "print(\n",
    "    # f\"Model is {'multilingual' if model.is_multilingual else 'English-only'} \"\n",
    "    f\"Model has {sum(np.prod(p.shape) for p in model.parameters()):,} parameters.\"\n",
    ")"
   ]
  },
  {
   "cell_type": "code",
   "execution_count": 5,
   "metadata": {},
   "outputs": [],
   "source": [
    "def collect_params(model):\n",
    "    # collect trainable params\n",
    "    params = []\n",
    "    names = []\n",
    "\n",
    "    for name, param in model.named_parameters():\n",
    "        param.requires_grad = False\n",
    "\n",
    "    for nm, m in model.named_modules():\n",
    "        trainable = ['weight', 'bias']\n",
    "        # train_LN\n",
    "        if isinstance(m, nn.LayerNorm) and str(nm).split('.')[0] == 'encoder':\n",
    "            for np, p in m.named_parameters():\n",
    "                if np in trainable:  \n",
    "                    p.requires_grad = True\n",
    "                    params.append(p)\n",
    "                    names.append(f\"{nm}.{np}\")\n",
    "        # train_feature\n",
    "        if len(str(nm).split('.')) > 1:\n",
    "            if str(nm).split('.')[0] == 'encoder' and (str(nm).split('.')[1] == 'conv1' or str(nm).split('.')[1] == 'conv2'):\n",
    "                for np, p in m.named_parameters():\n",
    "                    p.requires_grad = True\n",
    "                    params.append(p)\n",
    "                    names.append(f\"{nm}.{np}\")\n",
    "\n",
    "    return params, names"
   ]
  },
  {
   "cell_type": "code",
   "execution_count": 6,
   "metadata": {},
   "outputs": [],
   "source": [
    "def forward_and_adapt(x, model, optimizer, em_coef=1.0, reweight=False, temp=1., not_blank=True, scheduler=None, \n",
    "                        div_coef=0, repeat_inference=True, skip_short_thd=None):\n",
    "    \"\"\"Forward and adapt model on batch of data.\n",
    "\n",
    "    Measure entropy of the model prediction, take gradients, and update params.\n",
    "\n",
    "    the index of <pad> in vocab is 0\n",
    "    \"\"\"\n",
    "    # forward\n",
    "    outputs = model.decode(x, options)\n",
    "    logits = torch.stack(outputs[1], dim=0)\n",
    "    logits=logits.permute(1,0,2) # torch.Size([1, 5, 51864])\n",
    "    # adapt\n",
    "    loss = 0\n",
    "\n",
    "    if em_coef > 0: \n",
    "        e_loss = softmax_entropy(logits / temp).mean(0).mean() \n",
    "        \n",
    "        loss += e_loss * em_coef\n",
    "\n",
    "    if 1 - em_coef > 0: \n",
    "        c_loss = mcc_loss(logits / temp, reweight)\n",
    "        loss += c_loss * (1 - em_coef)\n",
    "\n",
    "    if div_coef > 0: \n",
    "        d_loss = div_loss(logits, not_blank) \n",
    "        loss += d_loss * div_coef \n",
    "\n",
    "    loss.backward()\n",
    "    optimizer.step()\n",
    "    if scheduler is not None: \n",
    "        scheduler.step()\n",
    "    model.zero_grad()\n",
    "\n",
    "    # inference again\n",
    "    if repeat_inference:\n",
    "        with torch.no_grad():\n",
    "            outputs = model.decode(x, options)\n",
    "    return outputs"
   ]
  },
  {
   "cell_type": "code",
   "execution_count": 7,
   "metadata": {},
   "outputs": [
    {
     "name": "stdout",
     "output_type": "stream",
     "text": [
      "[INFO]    optimizer: <class 'torch.optim.adamw.AdamW'>\n",
      "[INFO]    scheduler: None\n"
     ]
    }
   ],
   "source": [
    "params, names = collect_params(model)\n",
    "model = model.to(DEVICE)\n",
    "options = whisper.DecodingOptions(language=\"en\", without_timestamps=True)\n",
    "optimizer, scheduler = setup_optimizer(params, 'AdamW', lr=3e-4, scheduler=None)"
   ]
  },
  {
   "cell_type": "code",
   "execution_count": 8,
   "metadata": {},
   "outputs": [
    {
     "name": "stderr",
     "output_type": "stream",
     "text": [
      "  5%|▍         | 130/2620 [04:23<1:24:03,  2.03s/it]\n"
     ]
    }
   ],
   "source": [
    "transcriptions = []\n",
    "ori_transcriptions = []\n",
    "model_state, optimizer_state, scheduler_state = copy_model_and_optimizer(model, optimizer, scheduler)\n",
    "count = 0\n",
    "for mels, texts in tqdm(loader):\n",
    "    count+=1\n",
    "    if count > 130:\n",
    "        break\n",
    "    outputs = model.decode(mels, options)\n",
    "    model, optimizer, scheduler = load_model_and_optimizer(model, optimizer, scheduler, model_state, optimizer_state, scheduler_state)\n",
    "    for i in range(10):\n",
    "        adapt_output = forward_and_adapt(mels, model, optimizer)\n",
    "    transcriptions.append(adapt_output[0][0].text)\n",
    "    ori_transcriptions.append(texts[0])\n",
    "    del outputs, adapt_output\n",
    "    torch.cuda.empty_cache()"
   ]
  },
  {
   "cell_type": "code",
   "execution_count": 9,
   "metadata": {},
   "outputs": [
    {
     "data": {
      "text/html": [
       "<div>\n",
       "<style scoped>\n",
       "    .dataframe tbody tr th:only-of-type {\n",
       "        vertical-align: middle;\n",
       "    }\n",
       "\n",
       "    .dataframe tbody tr th {\n",
       "        vertical-align: top;\n",
       "    }\n",
       "\n",
       "    .dataframe thead th {\n",
       "        text-align: right;\n",
       "    }\n",
       "</style>\n",
       "<table border=\"1\" class=\"dataframe\">\n",
       "  <thead>\n",
       "    <tr style=\"text-align: right;\">\n",
       "      <th></th>\n",
       "      <th>hypothesis</th>\n",
       "      <th>reference</th>\n",
       "    </tr>\n",
       "  </thead>\n",
       "  <tbody>\n",
       "    <tr>\n",
       "      <th>0</th>\n",
       "      <td>He hoped there would be stew for dinner, turni...</td>\n",
       "      <td>HE HOPED THERE WOULD BE STEW FOR DINNER TURNIP...</td>\n",
       "    </tr>\n",
       "    <tr>\n",
       "      <th>1</th>\n",
       "      <td>Stuff it into you. His belly counseled him.</td>\n",
       "      <td>STUFF IT INTO YOU HIS BELLY COUNSELLED HIM</td>\n",
       "    </tr>\n",
       "    <tr>\n",
       "      <th>2</th>\n",
       "      <td>After early nightfall, the yellow lamps would ...</td>\n",
       "      <td>AFTER EARLY NIGHTFALL THE YELLOW LAMPS WOULD L...</td>\n",
       "    </tr>\n",
       "    <tr>\n",
       "      <th>3</th>\n",
       "      <td>Hello, Bertie. Any good in your mind?</td>\n",
       "      <td>HELLO BERTIE ANY GOOD IN YOUR MIND</td>\n",
       "    </tr>\n",
       "    <tr>\n",
       "      <th>4</th>\n",
       "      <td>Number 10, fresh Nelly is waiting on you. Good...</td>\n",
       "      <td>NUMBER TEN FRESH NELLY IS WAITING ON YOU GOOD ...</td>\n",
       "    </tr>\n",
       "    <tr>\n",
       "      <th>...</th>\n",
       "      <td>...</td>\n",
       "      <td>...</td>\n",
       "    </tr>\n",
       "    <tr>\n",
       "      <th>125</th>\n",
       "      <td>I'm me.</td>\n",
       "      <td>AY ME</td>\n",
       "    </tr>\n",
       "    <tr>\n",
       "      <th>126</th>\n",
       "      <td>No matter then, although my foot did stand, up...</td>\n",
       "      <td>NO MATTER THEN ALTHOUGH MY FOOT DID STAND UPON...</td>\n",
       "    </tr>\n",
       "    <tr>\n",
       "      <th>127</th>\n",
       "      <td>Thought kills me that I am not thought, to lea...</td>\n",
       "      <td>THOUGHT KILLS ME THAT I AM NOT THOUGHT TO LEAP...</td>\n",
       "    </tr>\n",
       "    <tr>\n",
       "      <th>128</th>\n",
       "      <td>My heart-doth plead that thou in him-doth lie....</td>\n",
       "      <td>MY HEART DOTH PLEAD THAT THOU IN HIM DOST LIE ...</td>\n",
       "    </tr>\n",
       "    <tr>\n",
       "      <th>129</th>\n",
       "      <td>You are my all the world, and I must strive to...</td>\n",
       "      <td>YOU ARE MY ALL THE WORLD AND I MUST STRIVE TO ...</td>\n",
       "    </tr>\n",
       "  </tbody>\n",
       "</table>\n",
       "<p>130 rows × 2 columns</p>\n",
       "</div>"
      ],
      "text/plain": [
       "                                            hypothesis  \\\n",
       "0    He hoped there would be stew for dinner, turni...   \n",
       "1          Stuff it into you. His belly counseled him.   \n",
       "2    After early nightfall, the yellow lamps would ...   \n",
       "3                Hello, Bertie. Any good in your mind?   \n",
       "4    Number 10, fresh Nelly is waiting on you. Good...   \n",
       "..                                                 ...   \n",
       "125                                            I'm me.   \n",
       "126  No matter then, although my foot did stand, up...   \n",
       "127  Thought kills me that I am not thought, to lea...   \n",
       "128  My heart-doth plead that thou in him-doth lie....   \n",
       "129  You are my all the world, and I must strive to...   \n",
       "\n",
       "                                             reference  \n",
       "0    HE HOPED THERE WOULD BE STEW FOR DINNER TURNIP...  \n",
       "1           STUFF IT INTO YOU HIS BELLY COUNSELLED HIM  \n",
       "2    AFTER EARLY NIGHTFALL THE YELLOW LAMPS WOULD L...  \n",
       "3                   HELLO BERTIE ANY GOOD IN YOUR MIND  \n",
       "4    NUMBER TEN FRESH NELLY IS WAITING ON YOU GOOD ...  \n",
       "..                                                 ...  \n",
       "125                                              AY ME  \n",
       "126  NO MATTER THEN ALTHOUGH MY FOOT DID STAND UPON...  \n",
       "127  THOUGHT KILLS ME THAT I AM NOT THOUGHT TO LEAP...  \n",
       "128  MY HEART DOTH PLEAD THAT THOU IN HIM DOST LIE ...  \n",
       "129  YOU ARE MY ALL THE WORLD AND I MUST STRIVE TO ...  \n",
       "\n",
       "[130 rows x 2 columns]"
      ]
     },
     "execution_count": 9,
     "metadata": {},
     "output_type": "execute_result"
    }
   ],
   "source": [
    "data = pd.DataFrame(dict(hypothesis=transcriptions, reference=ori_transcriptions))\n",
    "data"
   ]
  },
  {
   "cell_type": "code",
   "execution_count": 10,
   "metadata": {},
   "outputs": [],
   "source": [
    "import jiwer\n",
    "from whisper.normalizers import EnglishTextNormalizer\n",
    "\n",
    "normalizer = EnglishTextNormalizer()"
   ]
  },
  {
   "cell_type": "code",
   "execution_count": 11,
   "metadata": {},
   "outputs": [
    {
     "data": {
      "text/html": [
       "<div>\n",
       "<style scoped>\n",
       "    .dataframe tbody tr th:only-of-type {\n",
       "        vertical-align: middle;\n",
       "    }\n",
       "\n",
       "    .dataframe tbody tr th {\n",
       "        vertical-align: top;\n",
       "    }\n",
       "\n",
       "    .dataframe thead th {\n",
       "        text-align: right;\n",
       "    }\n",
       "</style>\n",
       "<table border=\"1\" class=\"dataframe\">\n",
       "  <thead>\n",
       "    <tr style=\"text-align: right;\">\n",
       "      <th></th>\n",
       "      <th>hypothesis</th>\n",
       "      <th>reference</th>\n",
       "      <th>hypothesis_clean</th>\n",
       "      <th>reference_clean</th>\n",
       "    </tr>\n",
       "  </thead>\n",
       "  <tbody>\n",
       "    <tr>\n",
       "      <th>0</th>\n",
       "      <td>He hoped there would be stew for dinner, turni...</td>\n",
       "      <td>HE HOPED THERE WOULD BE STEW FOR DINNER TURNIP...</td>\n",
       "      <td>he hoped there would be stew for dinner turnip...</td>\n",
       "      <td>he hoped there would be stew for dinner turnip...</td>\n",
       "    </tr>\n",
       "    <tr>\n",
       "      <th>1</th>\n",
       "      <td>Stuff it into you. His belly counseled him.</td>\n",
       "      <td>STUFF IT INTO YOU HIS BELLY COUNSELLED HIM</td>\n",
       "      <td>stuff it into you his belly counseled him</td>\n",
       "      <td>stuff it into you his belly counseled him</td>\n",
       "    </tr>\n",
       "    <tr>\n",
       "      <th>2</th>\n",
       "      <td>After early nightfall, the yellow lamps would ...</td>\n",
       "      <td>AFTER EARLY NIGHTFALL THE YELLOW LAMPS WOULD L...</td>\n",
       "      <td>after early nightfall the yellow lamps would l...</td>\n",
       "      <td>after early nightfall the yellow lamps would l...</td>\n",
       "    </tr>\n",
       "    <tr>\n",
       "      <th>3</th>\n",
       "      <td>Hello, Bertie. Any good in your mind?</td>\n",
       "      <td>HELLO BERTIE ANY GOOD IN YOUR MIND</td>\n",
       "      <td>hello bertie any good in your mind</td>\n",
       "      <td>hello bertie any good in your mind</td>\n",
       "    </tr>\n",
       "    <tr>\n",
       "      <th>4</th>\n",
       "      <td>Number 10, fresh Nelly is waiting on you. Good...</td>\n",
       "      <td>NUMBER TEN FRESH NELLY IS WAITING ON YOU GOOD ...</td>\n",
       "      <td>number 10 fresh nelly is waiting on you good n...</td>\n",
       "      <td>number 10 fresh nelly is waiting on you good n...</td>\n",
       "    </tr>\n",
       "    <tr>\n",
       "      <th>...</th>\n",
       "      <td>...</td>\n",
       "      <td>...</td>\n",
       "      <td>...</td>\n",
       "      <td>...</td>\n",
       "    </tr>\n",
       "    <tr>\n",
       "      <th>125</th>\n",
       "      <td>I'm me.</td>\n",
       "      <td>AY ME</td>\n",
       "      <td>i am me</td>\n",
       "      <td>ay me</td>\n",
       "    </tr>\n",
       "    <tr>\n",
       "      <th>126</th>\n",
       "      <td>No matter then, although my foot did stand, up...</td>\n",
       "      <td>NO MATTER THEN ALTHOUGH MY FOOT DID STAND UPON...</td>\n",
       "      <td>no matter then although my foot did stand upon...</td>\n",
       "      <td>no matter then although my foot did stand upon...</td>\n",
       "    </tr>\n",
       "    <tr>\n",
       "      <th>127</th>\n",
       "      <td>Thought kills me that I am not thought, to lea...</td>\n",
       "      <td>THOUGHT KILLS ME THAT I AM NOT THOUGHT TO LEAP...</td>\n",
       "      <td>thought kills me that i am not thought to leap...</td>\n",
       "      <td>thought kills me that i am not thought to leap...</td>\n",
       "    </tr>\n",
       "    <tr>\n",
       "      <th>128</th>\n",
       "      <td>My heart-doth plead that thou in him-doth lie....</td>\n",
       "      <td>MY HEART DOTH PLEAD THAT THOU IN HIM DOST LIE ...</td>\n",
       "      <td>my heart doth plead that thou in him doth lie ...</td>\n",
       "      <td>my heart doth plead that thou in him dost lie ...</td>\n",
       "    </tr>\n",
       "    <tr>\n",
       "      <th>129</th>\n",
       "      <td>You are my all the world, and I must strive to...</td>\n",
       "      <td>YOU ARE MY ALL THE WORLD AND I MUST STRIVE TO ...</td>\n",
       "      <td>you are my all the world and i must strive to ...</td>\n",
       "      <td>you are my all the world and i must strive to ...</td>\n",
       "    </tr>\n",
       "  </tbody>\n",
       "</table>\n",
       "<p>130 rows × 4 columns</p>\n",
       "</div>"
      ],
      "text/plain": [
       "                                            hypothesis  \\\n",
       "0    He hoped there would be stew for dinner, turni...   \n",
       "1          Stuff it into you. His belly counseled him.   \n",
       "2    After early nightfall, the yellow lamps would ...   \n",
       "3                Hello, Bertie. Any good in your mind?   \n",
       "4    Number 10, fresh Nelly is waiting on you. Good...   \n",
       "..                                                 ...   \n",
       "125                                            I'm me.   \n",
       "126  No matter then, although my foot did stand, up...   \n",
       "127  Thought kills me that I am not thought, to lea...   \n",
       "128  My heart-doth plead that thou in him-doth lie....   \n",
       "129  You are my all the world, and I must strive to...   \n",
       "\n",
       "                                             reference  \\\n",
       "0    HE HOPED THERE WOULD BE STEW FOR DINNER TURNIP...   \n",
       "1           STUFF IT INTO YOU HIS BELLY COUNSELLED HIM   \n",
       "2    AFTER EARLY NIGHTFALL THE YELLOW LAMPS WOULD L...   \n",
       "3                   HELLO BERTIE ANY GOOD IN YOUR MIND   \n",
       "4    NUMBER TEN FRESH NELLY IS WAITING ON YOU GOOD ...   \n",
       "..                                                 ...   \n",
       "125                                              AY ME   \n",
       "126  NO MATTER THEN ALTHOUGH MY FOOT DID STAND UPON...   \n",
       "127  THOUGHT KILLS ME THAT I AM NOT THOUGHT TO LEAP...   \n",
       "128  MY HEART DOTH PLEAD THAT THOU IN HIM DOST LIE ...   \n",
       "129  YOU ARE MY ALL THE WORLD AND I MUST STRIVE TO ...   \n",
       "\n",
       "                                      hypothesis_clean  \\\n",
       "0    he hoped there would be stew for dinner turnip...   \n",
       "1            stuff it into you his belly counseled him   \n",
       "2    after early nightfall the yellow lamps would l...   \n",
       "3                   hello bertie any good in your mind   \n",
       "4    number 10 fresh nelly is waiting on you good n...   \n",
       "..                                                 ...   \n",
       "125                                            i am me   \n",
       "126  no matter then although my foot did stand upon...   \n",
       "127  thought kills me that i am not thought to leap...   \n",
       "128  my heart doth plead that thou in him doth lie ...   \n",
       "129  you are my all the world and i must strive to ...   \n",
       "\n",
       "                                       reference_clean  \n",
       "0    he hoped there would be stew for dinner turnip...  \n",
       "1            stuff it into you his belly counseled him  \n",
       "2    after early nightfall the yellow lamps would l...  \n",
       "3                   hello bertie any good in your mind  \n",
       "4    number 10 fresh nelly is waiting on you good n...  \n",
       "..                                                 ...  \n",
       "125                                              ay me  \n",
       "126  no matter then although my foot did stand upon...  \n",
       "127  thought kills me that i am not thought to leap...  \n",
       "128  my heart doth plead that thou in him dost lie ...  \n",
       "129  you are my all the world and i must strive to ...  \n",
       "\n",
       "[130 rows x 4 columns]"
      ]
     },
     "execution_count": 11,
     "metadata": {},
     "output_type": "execute_result"
    }
   ],
   "source": [
    "data[\"hypothesis_clean\"] = [normalizer(text) for text in data[\"hypothesis\"]]\n",
    "data[\"reference_clean\"] = [normalizer(text) for text in data[\"reference\"]]\n",
    "data"
   ]
  },
  {
   "cell_type": "code",
   "execution_count": 13,
   "metadata": {},
   "outputs": [],
   "source": [
    "data.to_csv('./test.csv')"
   ]
  },
  {
   "cell_type": "code",
   "execution_count": 12,
   "metadata": {},
   "outputs": [
    {
     "name": "stdout",
     "output_type": "stream",
     "text": [
      "WER: 4.72 %\n"
     ]
    }
   ],
   "source": [
    "wer = jiwer.wer(list(data[\"reference_clean\"]), list(data[\"hypothesis_clean\"]))\n",
    "\n",
    "print(f\"WER: {wer * 100:.2f} %\")"
   ]
  },
  {
   "cell_type": "code",
   "execution_count": 33,
   "metadata": {},
   "outputs": [
    {
     "name": "stdout",
     "output_type": "stream",
     "text": [
      "WER: 4.27 %\n"
     ]
    }
   ],
   "source": [
    "wer = jiwer.wer(list(data[\"reference_clean\"]), list(data[\"hypothesis_clean\"]))\n",
    "\n",
    "print(f\"WER: {wer * 100:.2f} %\")"
   ]
  },
  {
   "cell_type": "code",
   "execution_count": 41,
   "metadata": {},
   "outputs": [
    {
     "name": "stdout",
     "output_type": "stream",
     "text": [
      "WER: 3.05 %\n"
     ]
    }
   ],
   "source": [
    "wer = jiwer.wer(list(data[\"reference_clean\"]), list(data[\"hypothesis_clean\"]))\n",
    "\n",
    "print(f\"WER: {wer * 100:.2f} %\")"
   ]
  },
  {
   "cell_type": "code",
   "execution_count": null,
   "metadata": {},
   "outputs": [],
   "source": []
  }
 ],
 "metadata": {
  "kernelspec": {
   "display_name": "tta",
   "language": "python",
   "name": "python3"
  },
  "language_info": {
   "codemirror_mode": {
    "name": "ipython",
    "version": 3
   },
   "file_extension": ".py",
   "mimetype": "text/x-python",
   "name": "python",
   "nbconvert_exporter": "python",
   "pygments_lexer": "ipython3",
   "version": "3.9.18"
  }
 },
 "nbformat": 4,
 "nbformat_minor": 2
}
