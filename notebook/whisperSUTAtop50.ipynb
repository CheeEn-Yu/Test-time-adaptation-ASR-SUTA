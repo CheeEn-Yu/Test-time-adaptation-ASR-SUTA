{
 "cells": [
  {
   "cell_type": "code",
   "execution_count": 24,
   "metadata": {},
   "outputs": [],
   "source": [
    "import torch\n",
    "import torch.nn.functional as F\n",
    "from torch import nn\n",
    "\n",
    "import whisper\n",
    "from whisper.audio import (\n",
    "    log_mel_spectrogram,\n",
    "    pad_or_trim,\n",
    "    load_audio,\n",
    ")\n",
    "\n",
    "import jiwer\n",
    "from suta import *\n",
    "import matplotlib.pyplot as plt\n",
    "DEVICE = \"cuda\" if torch.cuda.is_available() else \"cpu\""
   ]
  },
  {
   "cell_type": "code",
   "execution_count": 2,
   "metadata": {},
   "outputs": [],
   "source": [
    "model = whisper.load_model(\"base.en\")"
   ]
  },
  {
   "cell_type": "code",
   "execution_count": 3,
   "metadata": {},
   "outputs": [
    {
     "name": "stdout",
     "output_type": "stream",
     "text": [
      "['encoder.conv1.weight', 'encoder.conv1.bias', 'encoder.conv2.weight', 'encoder.conv2.bias', 'encoder.blocks.0.attn_ln.weight', 'encoder.blocks.0.attn_ln.bias', 'encoder.blocks.0.mlp_ln.weight', 'encoder.blocks.0.mlp_ln.bias', 'encoder.blocks.1.attn_ln.weight', 'encoder.blocks.1.attn_ln.bias', 'encoder.blocks.1.mlp_ln.weight', 'encoder.blocks.1.mlp_ln.bias', 'encoder.blocks.2.attn_ln.weight', 'encoder.blocks.2.attn_ln.bias', 'encoder.blocks.2.mlp_ln.weight', 'encoder.blocks.2.mlp_ln.bias', 'encoder.blocks.3.attn_ln.weight', 'encoder.blocks.3.attn_ln.bias', 'encoder.blocks.3.mlp_ln.weight', 'encoder.blocks.3.mlp_ln.bias', 'encoder.blocks.4.attn_ln.weight', 'encoder.blocks.4.attn_ln.bias', 'encoder.blocks.4.mlp_ln.weight', 'encoder.blocks.4.mlp_ln.bias', 'encoder.blocks.5.attn_ln.weight', 'encoder.blocks.5.attn_ln.bias', 'encoder.blocks.5.mlp_ln.weight', 'encoder.blocks.5.mlp_ln.bias', 'encoder.ln_post.weight', 'encoder.ln_post.bias']\n"
     ]
    }
   ],
   "source": [
    "# collect trainable params\n",
    "params = []\n",
    "names = []\n",
    "\n",
    "for name, param in model.named_parameters():\n",
    "    param.requires_grad = False\n",
    "\n",
    "for nm, m in model.named_modules():\n",
    "    # print(str(nm).split('.'))\n",
    "    trainable = ['weight', 'bias']\n",
    "    # train_LN\n",
    "    if isinstance(m, nn.LayerNorm) and str(nm).split('.')[0] == 'encoder':\n",
    "        for np, p in m.named_parameters():\n",
    "            if np in trainable:  \n",
    "                p.requires_grad = True\n",
    "                params.append(p)\n",
    "                names.append(f\"{nm}.{np}\")\n",
    "    # train_feature\n",
    "    if len(str(nm).split('.')) > 1:\n",
    "        if str(nm).split('.')[0] == 'encoder' and (str(nm).split('.')[1] == 'conv1' or str(nm).split('.')[1] == 'conv2'):\n",
    "            for np, p in m.named_parameters():\n",
    "                p.requires_grad = True\n",
    "                params.append(p)\n",
    "                names.append(f\"{nm}.{np}\")\n",
    "print(names)\n",
    "# check trainable parameter\n",
    "# for name, param in model.named_parameters():\n",
    "#     print(\"name: \", name)\n",
    "#     print(\"requires_grad: \", param.requires_grad)"
   ]
  },
  {
   "cell_type": "code",
   "execution_count": 4,
   "metadata": {},
   "outputs": [],
   "source": [
    "# load audio\n",
    "options = whisper.DecodingOptions(language=\"en\", without_timestamps=True)\n",
    "audio = load_audio(file='./p232_022.wav')\n",
    "audio = pad_or_trim(audio)\n",
    "mel = log_mel_spectrogram(audio)\n",
    "mel = mel.unsqueeze(-1)\n",
    "mel = mel.permute(2,0,1)"
   ]
  },
  {
   "cell_type": "markdown",
   "metadata": {},
   "source": [
    "## Calculate loss and adapt"
   ]
  },
  {
   "cell_type": "code",
   "execution_count": 5,
   "metadata": {},
   "outputs": [
    {
     "name": "stdout",
     "output_type": "stream",
     "text": [
      "[INFO]    optimizer: <class 'torch.optim.adamw.AdamW'>\n",
      "[INFO]    scheduler: None\n"
     ]
    }
   ],
   "source": [
    "optimizer, scheduler = setup_optimizer(params, 'AdamW', lr=3e-4, scheduler=None)\n",
    "mel = mel.to(DEVICE)\n",
    "model = model.to(DEVICE)\n",
    "outputs = model.decode(mel, options)\n"
   ]
  },
  {
   "cell_type": "code",
   "execution_count": 35,
   "metadata": {},
   "outputs": [
    {
     "data": {
      "text/plain": [
       "([DecodingResult(audio_features=tensor([[-6.8994e-01,  5.6152e-01, -9.4238e-01,  ...,  2.4438e-01,\n",
       "           -4.6631e-01,  2.3331e-02],\n",
       "          [-5.1758e-01,  4.1162e-01, -6.4731e-05,  ...,  9.3115e-01,\n",
       "           -8.7305e-01,  1.8359e-01],\n",
       "          [-9.4092e-01, -2.0190e-01,  3.5303e-01,  ...,  5.2930e-01,\n",
       "           -1.8066e-01, -3.0908e-01],\n",
       "          ...,\n",
       "          [ 3.3105e-01, -6.3818e-01, -9.0723e-01,  ...,  1.0029e+00,\n",
       "           -2.2168e-01,  8.9893e-01],\n",
       "          [ 7.2314e-01, -3.7769e-01, -4.2725e-01,  ...,  1.1074e+00,\n",
       "           -3.8501e-01,  5.4004e-01],\n",
       "          [ 7.6709e-01, -7.2461e-01,  3.1763e-01,  ...,  6.4258e-01,\n",
       "           -4.7339e-01,  2.2205e-01]], device='cuda:0', dtype=torch.float16,\n",
       "         grad_fn=<UnbindBackward0>), language='en', language_probs=None, tokens=[383, 4036, 4165, 27223, 6515, 318, 531, 284, 307, 262, 1245, 286, 2208, 320, 9150, 286, 257, 1271, 286, 37469, 13], text='The actual primary rainbow observed is said to be the effect of superimposition of a number of bows.', avg_logprob=-0.04587903347882358, no_speech_prob=0.005041659343987703, temperature=0.0, compression_ratio=1.1627906976744187)],\n",
       " [tensor([[4.7930, 4.3828, 2.3438,  ..., 3.5781, 3.1816, 2.5645]],\n",
       "         device='cuda:0', grad_fn=<CloneBackward0>),\n",
       "  tensor([[ 1.3623,  1.6719, -1.6299,  ..., -0.4553, -0.6592, -1.6455]],\n",
       "         device='cuda:0', grad_fn=<CloneBackward0>),\n",
       "  tensor([[ 0.3005, -0.0786, -5.5273,  ..., -0.6509, -0.3044, -1.7471]],\n",
       "         device='cuda:0', grad_fn=<CloneBackward0>),\n",
       "  tensor([[-3.5117, -3.6641, -6.6250,  ..., -4.1289, -3.8574, -6.5547]],\n",
       "         device='cuda:0', grad_fn=<CloneBackward0>),\n",
       "  tensor([[ 2.9629,  2.7812,  1.2627,  ..., -0.7393, -0.8633, -1.1006]],\n",
       "         device='cuda:0', grad_fn=<CloneBackward0>),\n",
       "  tensor([[17.4844, 17.8281, 12.7422,  ..., 13.6016, 12.9141, 11.6641]],\n",
       "         device='cuda:0', grad_fn=<CloneBackward0>),\n",
       "  tensor([[11.1953, 12.5391,  6.9297,  ...,  9.8828,  9.7734,  8.7812]],\n",
       "         device='cuda:0', grad_fn=<CloneBackward0>),\n",
       "  tensor([[18.4531, 21.1562, 15.9844,  ..., 18.1250, 17.4531, 16.2969]],\n",
       "         device='cuda:0', grad_fn=<CloneBackward0>),\n",
       "  tensor([[13.6328, 17.5312, 13.9219,  ..., 15.6484, 15.0078, 14.4844]],\n",
       "         device='cuda:0', grad_fn=<CloneBackward0>),\n",
       "  tensor([[12.4453, 15.7891, 10.4688,  ..., 10.7734, 10.2812,  9.9844]],\n",
       "         device='cuda:0', grad_fn=<CloneBackward0>),\n",
       "  tensor([[4.0703, 6.6914, 1.5244,  ..., 3.6348, 2.6641, 2.1133]],\n",
       "         device='cuda:0', grad_fn=<CloneBackward0>),\n",
       "  tensor([[12.2891, 13.6719,  8.6641,  ..., 10.1484,  9.8047,  9.6328]],\n",
       "         device='cuda:0', grad_fn=<CloneBackward0>),\n",
       "  tensor([[-1.0225, -1.4580, -5.8750,  ..., -3.0645, -2.6113, -2.3691]],\n",
       "         device='cuda:0', grad_fn=<CloneBackward0>),\n",
       "  tensor([[-0.2742, -1.2021, -4.8125,  ..., -2.7227, -3.3320, -3.4199]],\n",
       "         device='cuda:0', grad_fn=<CloneBackward0>),\n",
       "  tensor([[-1.5859, -1.8516, -4.8828,  ..., -1.8975, -2.6348, -3.6250]],\n",
       "         device='cuda:0', grad_fn=<CloneBackward0>),\n",
       "  tensor([[20.5312, 20.4062, 18.1094,  ..., 17.1562, 16.4375, 16.4531]],\n",
       "         device='cuda:0', grad_fn=<CloneBackward0>),\n",
       "  tensor([[12.7578, 14.4531, 12.8047,  ..., 12.1797, 11.8047, 12.8750]],\n",
       "         device='cuda:0', grad_fn=<CloneBackward0>),\n",
       "  tensor([[7.1367, 8.7812, 8.4141,  ..., 5.8828, 5.3203, 6.2734]],\n",
       "         device='cuda:0', grad_fn=<CloneBackward0>),\n",
       "  tensor([[14.2500, 12.4453,  7.6641,  ..., 10.8672, 10.3203, 10.2578]],\n",
       "         device='cuda:0', grad_fn=<CloneBackward0>),\n",
       "  tensor([[-0.2292, -1.4844, -6.0625,  ..., -1.1816, -1.7617, -2.7168]],\n",
       "         device='cuda:0', grad_fn=<CloneBackward0>),\n",
       "  tensor([[20.5781, 18.6562, 12.9922,  ..., 11.4453, 11.3047, 10.3828]],\n",
       "         device='cuda:0', grad_fn=<CloneBackward0>),\n",
       "  tensor([[7.0977, 7.6953, 6.8867,  ..., 6.0273, 5.8008, 5.2617]],\n",
       "         device='cuda:0', grad_fn=<CloneBackward0>)])"
      ]
     },
     "execution_count": 35,
     "metadata": {},
     "output_type": "execute_result"
    }
   ],
   "source": [
    "outputs"
   ]
  },
  {
   "cell_type": "code",
   "execution_count": 6,
   "metadata": {},
   "outputs": [
    {
     "data": {
      "text/plain": [
       "torch.Size([1, 22, 51864])"
      ]
     },
     "execution_count": 6,
     "metadata": {},
     "output_type": "execute_result"
    }
   ],
   "source": [
    "result_tensor = torch.stack(outputs[1], dim=0)\n",
    "result_tensor=result_tensor.permute(1,0,2) # torch.Size([1, 5, 51864])\n",
    "result_tensor.shape"
   ]
  },
  {
   "cell_type": "code",
   "execution_count": 29,
   "metadata": {},
   "outputs": [
    {
     "data": {
      "text/plain": [
       "torch.Size([1, 22, 50])"
      ]
     },
     "execution_count": 29,
     "metadata": {},
     "output_type": "execute_result"
    }
   ],
   "source": [
    "val, idx = torch.topk(result_tensor,k=50)\n",
    "val.shape"
   ]
  },
  {
   "cell_type": "code",
   "execution_count": 31,
   "metadata": {},
   "outputs": [
    {
     "data": {
      "text/plain": [
       "tensor(2.4510, device='cuda:0', grad_fn=<MeanBackward0>)"
      ]
     },
     "execution_count": 31,
     "metadata": {},
     "output_type": "execute_result"
    }
   ],
   "source": [
    "e_loss_top50 = softmax_entropy(val/2.5).mean(0).mean()\n",
    "e_loss_top50"
   ]
  },
  {
   "cell_type": "code",
   "execution_count": 55,
   "metadata": {},
   "outputs": [
    {
     "name": "stderr",
     "output_type": "stream",
     "text": [
      "/tmp/ipykernel_7677/2263383400.py:2: UserWarning: Implicit dimension choice for softmax has been deprecated. Change the call to include dim=X as an argument.\n",
      "  plt.plot(F.softmax(result_tensor[0][4]).detach().cpu(),marker='o', linestyle='',markersize=4)\n"
     ]
    },
    {
     "data": {
      "text/plain": [
       "[<matplotlib.lines.Line2D at 0x7f9a51f085e0>]"
      ]
     },
     "execution_count": 55,
     "metadata": {},
     "output_type": "execute_result"
    },
    {
     "data": {
      "image/png": "[encoded data removed]",
      "text/plain": [
       "<Figure size 640x480 with 1 Axes>"
      ]
     },
     "metadata": {},
     "output_type": "display_data"
    }
   ],
   "source": [
    "# plt.plot(result_tensor[0][2].detach().cpu(),marker='o', linestyle='',markersize=1)\n",
    "plt.plot(F.softmax(result_tensor[0][4]).detach().cpu(),marker='o', linestyle='',markersize=4)"
   ]
  },
  {
   "cell_type": "code",
   "execution_count": 47,
   "metadata": {},
   "outputs": [
    {
     "data": {
      "text/plain": [
       "[<matplotlib.lines.Line2D at 0x7f9a5878ea00>]"
      ]
     },
     "execution_count": 47,
     "metadata": {},
     "output_type": "execute_result"
    },
    {
     "data": {
      "image/png": "[encoded data removed]",
      "text/plain": [
       "<Figure size 640x480 with 1 Axes>"
      ]
     },
     "metadata": {},
     "output_type": "display_data"
    }
   ],
   "source": [
    "tmp = val[0][0]\n",
    "plt.plot(tmp.detach().cpu(),marker='o', linestyle='',markersize=1)"
   ]
  },
  {
   "cell_type": "code",
   "execution_count": 35,
   "metadata": {},
   "outputs": [],
   "source": [
    "tmp = result_tensor[0][9].detach().cpu()"
   ]
  },
  {
   "cell_type": "code",
   "execution_count": 48,
   "metadata": {},
   "outputs": [
    {
     "data": {
      "text/plain": [
       "tensor([3.0077e-07, 8.5195e-06, 4.1671e-08,  ..., 5.6514e-08, 3.4546e-08,\n",
       "        2.5673e-08])"
      ]
     },
     "execution_count": 48,
     "metadata": {},
     "output_type": "execute_result"
    }
   ],
   "source": [
    "F.softmax(tmp,dim=-1)"
   ]
  },
  {
   "cell_type": "code",
   "execution_count": 36,
   "metadata": {},
   "outputs": [
    {
     "data": {
      "text/plain": [
       "(tensor([    0,     1,     2,  ..., 51861, 51862, 51863]),)"
      ]
     },
     "execution_count": 36,
     "metadata": {},
     "output_type": "execute_result"
    }
   ],
   "source": [
    "torch.where(tmp>5)"
   ]
  },
  {
   "cell_type": "code",
   "execution_count": 44,
   "metadata": {},
   "outputs": [],
   "source": [
    "_, idx = torch.topk(tmp,k=50)"
   ]
  },
  {
   "cell_type": "code",
   "execution_count": 47,
   "metadata": {},
   "outputs": [
    {
     "data": {
      "text/plain": [
       "tensor([27.4219, 23.8438, 21.6719, 20.8594, 20.4844, 20.3906, 20.2188, 20.2031,\n",
       "        20.2031, 19.8750, 19.7500, 19.2188, 19.1406, 18.8750, 18.2812, 18.1406,\n",
       "        17.9375, 17.9219, 17.8594, 17.7969, 17.7656, 17.7500, 17.6094, 17.5312,\n",
       "        17.4219, 17.4062, 17.3438, 17.2969, 17.2500, 17.1562, 17.0625, 17.0469,\n",
       "        17.0156, 16.9688, 16.8594, 16.7188, 16.5000, 16.4844, 16.4688, 16.4688,\n",
       "        16.4219, 16.3594, 16.2812, 16.2500, 16.2500, 16.2344, 16.2188, 16.2031,\n",
       "        16.1719, 16.1406])"
      ]
     },
     "execution_count": 47,
     "metadata": {},
     "output_type": "execute_result"
    }
   ],
   "source": [
    "tmp[idx]"
   ]
  },
  {
   "cell_type": "code",
   "execution_count": 42,
   "metadata": {},
   "outputs": [
    {
     "data": {
      "text/plain": [
       "[<matplotlib.lines.Line2D at 0x7f0dc50569a0>]"
      ]
     },
     "execution_count": 42,
     "metadata": {},
     "output_type": "execute_result"
    },
    {
     "data": {
      "image/png": "[encoded data removed]",
      "text/plain": [
       "<Figure size 640x480 with 1 Axes>"
      ]
     },
     "metadata": {},
     "output_type": "display_data"
    }
   ],
   "source": [
    "plt.plot(F.softmax(tmp,dim=0))"
   ]
  },
  {
   "cell_type": "code",
   "execution_count": 34,
   "metadata": {},
   "outputs": [
    {
     "data": {
      "text/plain": [
       "tensor(10.2570, device='cuda:0', grad_fn=<MeanBackward0>)"
      ]
     },
     "execution_count": 34,
     "metadata": {},
     "output_type": "execute_result"
    }
   ],
   "source": [
    "e_loss = softmax_entropy(result_tensor/2.5).mean(0).mean()\n",
    "e_loss\n"
   ]
  }
 ],
 "metadata": {
  "kernelspec": {
   "display_name": "tta",
   "language": "python",
   "name": "python3"
  },
  "language_info": {
   "codemirror_mode": {
    "name": "ipython",
    "version": 3
   },
   "file_extension": ".py",
   "mimetype": "text/x-python",
   "name": "python",
   "nbconvert_exporter": "python",
   "pygments_lexer": "ipython3",
   "version": "3.9.18"
  }
 },
 "nbformat": 4,
 "nbformat_minor": 2
}
