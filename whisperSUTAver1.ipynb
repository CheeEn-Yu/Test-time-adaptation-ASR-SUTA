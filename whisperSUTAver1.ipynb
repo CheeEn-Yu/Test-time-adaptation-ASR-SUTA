{
 "cells": [
  {
   "cell_type": "code",
   "execution_count": 1,
   "metadata": {},
   "outputs": [
    {
     "name": "stderr",
     "output_type": "stream",
     "text": [
      "/home/allens/anaconda3/envs/tta/lib/python3.9/site-packages/tqdm/auto.py:21: TqdmWarning: IProgress not found. Please update jupyter and ipywidgets. See https://ipywidgets.readthedocs.io/en/stable/user_install.html\n",
      "  from .autonotebook import tqdm as notebook_tqdm\n"
     ]
    }
   ],
   "source": [
    "import torch\n",
    "import torch.nn.functional as F\n",
    "from torch import nn\n",
    "\n",
    "import whisper\n",
    "from whisper.audio import (\n",
    "    log_mel_spectrogram,\n",
    "    pad_or_trim,\n",
    "    load_audio,\n",
    ")\n",
    "\n",
    "import jiwer\n",
    "from tqdm import tqdm\n",
    "from main import *\n",
    "\n",
    "DEVICE = \"cuda\" if torch.cuda.is_available() else \"cpu\"\n",
    "model = whisper.load_model(\"base.en\")"
   ]
  },
  {
   "cell_type": "code",
   "execution_count": 2,
   "metadata": {},
   "outputs": [
    {
     "name": "stdout",
     "output_type": "stream",
     "text": [
      "['encoder.conv1.weight', 'encoder.conv1.bias', 'encoder.conv2.weight', 'encoder.conv2.bias', 'encoder.blocks.0.attn_ln.weight', 'encoder.blocks.0.attn_ln.bias', 'encoder.blocks.0.mlp_ln.weight', 'encoder.blocks.0.mlp_ln.bias', 'encoder.blocks.1.attn_ln.weight', 'encoder.blocks.1.attn_ln.bias', 'encoder.blocks.1.mlp_ln.weight', 'encoder.blocks.1.mlp_ln.bias', 'encoder.blocks.2.attn_ln.weight', 'encoder.blocks.2.attn_ln.bias', 'encoder.blocks.2.mlp_ln.weight', 'encoder.blocks.2.mlp_ln.bias', 'encoder.blocks.3.attn_ln.weight', 'encoder.blocks.3.attn_ln.bias', 'encoder.blocks.3.mlp_ln.weight', 'encoder.blocks.3.mlp_ln.bias', 'encoder.blocks.4.attn_ln.weight', 'encoder.blocks.4.attn_ln.bias', 'encoder.blocks.4.mlp_ln.weight', 'encoder.blocks.4.mlp_ln.bias', 'encoder.blocks.5.attn_ln.weight', 'encoder.blocks.5.attn_ln.bias', 'encoder.blocks.5.mlp_ln.weight', 'encoder.blocks.5.mlp_ln.bias', 'encoder.ln_post.weight', 'encoder.ln_post.bias']\n"
     ]
    }
   ],
   "source": [
    "# collect trainable params\n",
    "params = []\n",
    "names = []\n",
    "\n",
    "for name, param in model.named_parameters():\n",
    "    param.requires_grad = False\n",
    "\n",
    "for nm, m in model.named_modules():\n",
    "    # print(str(nm).split('.'))\n",
    "    trainable = ['weight', 'bias']\n",
    "    # train_LN\n",
    "    if isinstance(m, nn.LayerNorm) and str(nm).split('.')[0] == 'encoder':\n",
    "        for np, p in m.named_parameters():\n",
    "            if np in trainable:  \n",
    "                p.requires_grad = True\n",
    "                params.append(p)\n",
    "                names.append(f\"{nm}.{np}\")\n",
    "    # train_feature\n",
    "    if len(str(nm).split('.')) > 1:\n",
    "        if str(nm).split('.')[0] == 'encoder' and (str(nm).split('.')[1] == 'conv1' or str(nm).split('.')[1] == 'conv2'):\n",
    "            for np, p in m.named_parameters():\n",
    "                p.requires_grad = True\n",
    "                params.append(p)\n",
    "                names.append(f\"{nm}.{np}\")\n",
    "print(names)\n",
    "# check trainable parameter\n",
    "# for name, param in model.named_parameters():\n",
    "#     print(\"name: \", name)\n",
    "#     print(\"requires_grad: \", param.requires_grad)"
   ]
  },
  {
   "cell_type": "code",
   "execution_count": 3,
   "metadata": {},
   "outputs": [],
   "source": [
    "# load audio\n",
    "model = model.to(DEVICE)\n",
    "options = whisper.DecodingOptions(language=\"en\", without_timestamps=True)\n",
    "audio = load_audio(file='./p232_022.wav')\n",
    "audio = pad_or_trim(audio)\n",
    "mel = log_mel_spectrogram(audio)\n",
    "mel = mel.unsqueeze(-1)\n",
    "mel = mel.permute(2,0,1)"
   ]
  },
  {
   "cell_type": "markdown",
   "metadata": {},
   "source": [
    "## Before TTA"
   ]
  },
  {
   "cell_type": "code",
   "execution_count": 4,
   "metadata": {},
   "outputs": [
    {
     "data": {
      "text/plain": [
       "([DecodingResult(audio_features=tensor([[-6.8994e-01,  5.6152e-01, -9.4238e-01,  ...,  2.4438e-01,\n",
       "           -4.6631e-01,  2.3331e-02],\n",
       "          [-5.1758e-01,  4.1162e-01, -6.4731e-05,  ...,  9.3115e-01,\n",
       "           -8.7305e-01,  1.8359e-01],\n",
       "          [-9.4092e-01, -2.0190e-01,  3.5303e-01,  ...,  5.2930e-01,\n",
       "           -1.8066e-01, -3.0908e-01],\n",
       "          ...,\n",
       "          [ 3.3105e-01, -6.3818e-01, -9.0723e-01,  ...,  1.0029e+00,\n",
       "           -2.2168e-01,  8.9893e-01],\n",
       "          [ 7.2314e-01, -3.7769e-01, -4.2725e-01,  ...,  1.1074e+00,\n",
       "           -3.8501e-01,  5.4004e-01],\n",
       "          [ 7.6709e-01, -7.2461e-01,  3.1763e-01,  ...,  6.4258e-01,\n",
       "           -4.7339e-01,  2.2205e-01]], device='cuda:0', dtype=torch.float16,\n",
       "         grad_fn=<UnbindBackward0>), language='en', language_probs=None, tokens=[383, 4036, 4165, 27223, 6515, 318, 531, 284, 307, 262, 1245, 286, 2208, 320, 9150, 286, 257, 1271, 286, 37469, 13], text='The actual primary rainbow observed is said to be the effect of superimposition of a number of bows.', avg_logprob=-0.04587903347882358, no_speech_prob=0.005041659343987703, temperature=0.0, compression_ratio=1.1627906976744187)],\n",
       " [tensor([[4.7930, 4.3828, 2.3438,  ..., 3.5781, 3.1816, 2.5645]],\n",
       "         device='cuda:0'),\n",
       "  tensor([[ 1.3623,  1.6719, -1.6299,  ..., -0.4553, -0.6592, -1.6455]],\n",
       "         device='cuda:0'),\n",
       "  tensor([[ 0.3005, -0.0786, -5.5273,  ..., -0.6509, -0.3044, -1.7471]],\n",
       "         device='cuda:0'),\n",
       "  tensor([[-3.5117, -3.6641, -6.6250,  ..., -4.1289, -3.8574, -6.5547]],\n",
       "         device='cuda:0'),\n",
       "  tensor([[ 2.9629,  2.7812,  1.2627,  ..., -0.7393, -0.8633, -1.1006]],\n",
       "         device='cuda:0'),\n",
       "  tensor([[17.4844, 17.8281, 12.7422,  ..., 13.6016, 12.9141, 11.6641]],\n",
       "         device='cuda:0'),\n",
       "  tensor([[11.1953, 12.5391,  6.9297,  ...,  9.8828,  9.7734,  8.7812]],\n",
       "         device='cuda:0'),\n",
       "  tensor([[18.4531, 21.1562, 15.9844,  ..., 18.1250, 17.4531, 16.2969]],\n",
       "         device='cuda:0'),\n",
       "  tensor([[13.6328, 17.5312, 13.9219,  ..., 15.6484, 15.0078, 14.4844]],\n",
       "         device='cuda:0'),\n",
       "  tensor([[12.4453, 15.7891, 10.4688,  ..., 10.7734, 10.2812,  9.9844]],\n",
       "         device='cuda:0'),\n",
       "  tensor([[4.0703, 6.6914, 1.5244,  ..., 3.6348, 2.6641, 2.1133]],\n",
       "         device='cuda:0'),\n",
       "  tensor([[12.2891, 13.6719,  8.6641,  ..., 10.1484,  9.8047,  9.6328]],\n",
       "         device='cuda:0'),\n",
       "  tensor([[-1.0225, -1.4580, -5.8750,  ..., -3.0645, -2.6113, -2.3691]],\n",
       "         device='cuda:0'),\n",
       "  tensor([[-0.2742, -1.2021, -4.8125,  ..., -2.7227, -3.3320, -3.4199]],\n",
       "         device='cuda:0'),\n",
       "  tensor([[-1.5859, -1.8516, -4.8828,  ..., -1.8975, -2.6348, -3.6250]],\n",
       "         device='cuda:0'),\n",
       "  tensor([[20.5312, 20.4062, 18.1094,  ..., 17.1562, 16.4375, 16.4531]],\n",
       "         device='cuda:0'),\n",
       "  tensor([[12.7578, 14.4531, 12.8047,  ..., 12.1797, 11.8047, 12.8750]],\n",
       "         device='cuda:0'),\n",
       "  tensor([[7.1367, 8.7812, 8.4141,  ..., 5.8828, 5.3203, 6.2734]],\n",
       "         device='cuda:0'),\n",
       "  tensor([[14.2500, 12.4453,  7.6641,  ..., 10.8672, 10.3203, 10.2578]],\n",
       "         device='cuda:0'),\n",
       "  tensor([[-0.2292, -1.4844, -6.0625,  ..., -1.1816, -1.7617, -2.7168]],\n",
       "         device='cuda:0'),\n",
       "  tensor([[20.5781, 18.6562, 12.9922,  ..., 11.4453, 11.3047, 10.3828]],\n",
       "         device='cuda:0'),\n",
       "  tensor([[7.0977, 7.6953, 6.8867,  ..., 6.0273, 5.8008, 5.2617]],\n",
       "         device='cuda:0')])"
      ]
     },
     "execution_count": 4,
     "metadata": {},
     "output_type": "execute_result"
    }
   ],
   "source": [
    "# forward\n",
    "mel = mel.to(DEVICE)\n",
    "outputs = model.decode(mel, options)\n",
    "outputs"
   ]
  },
  {
   "cell_type": "markdown",
   "metadata": {},
   "source": [
    "## Calculate loss and adapt"
   ]
  },
  {
   "cell_type": "code",
   "execution_count": 5,
   "metadata": {},
   "outputs": [
    {
     "name": "stdout",
     "output_type": "stream",
     "text": [
      "[INFO]    optimizer: <class 'torch.optim.adamw.AdamW'>\n",
      "[INFO]    scheduler: None\n"
     ]
    }
   ],
   "source": [
    "optimizer, scheduler = setup_optimizer(params, 'AdamW', lr=3e-4, scheduler=None)\n",
    "outputs = model.decode(mel, options)\n",
    "result_tensor = torch.stack(outputs[1], dim=0)\n",
    "result_tensor=result_tensor.permute(1,0,2) # torch.Size([1, 5, 51864])"
   ]
  },
  {
   "cell_type": "code",
   "execution_count": 6,
   "metadata": {},
   "outputs": [
    {
     "data": {
      "text/plain": [
       "tensor(0.2499, device='cuda:0')"
      ]
     },
     "execution_count": 6,
     "metadata": {},
     "output_type": "execute_result"
    }
   ],
   "source": [
    "e_loss = softmax_entropy(result_tensor).mean(0).mean()\n",
    "e_loss\n"
   ]
  },
  {
   "cell_type": "code",
   "execution_count": 7,
   "metadata": {},
   "outputs": [
    {
     "ename": "OutOfMemoryError",
     "evalue": "CUDA out of memory. Tried to allocate 10.02 GiB. GPU 0 has a total capacty of 11.72 GiB of which 7.28 GiB is free. Process 1935689 has 1.83 GiB memory in use. Including non-PyTorch memory, this process has 2.14 GiB memory in use. Of the allocated memory 1.80 GiB is allocated by PyTorch, and 145.23 MiB is reserved by PyTorch but unallocated. If reserved but unallocated memory is large try setting max_split_size_mb to avoid fragmentation.  See documentation for Memory Management and PYTORCH_CUDA_ALLOC_CONF",
     "output_type": "error",
     "traceback": [
      "\u001b[0;31m---------------------------------------------------------------------------\u001b[0m",
      "\u001b[0;31mOutOfMemoryError\u001b[0m                          Traceback (most recent call last)",
      "Cell \u001b[0;32mIn[7], line 1\u001b[0m\n\u001b[0;32m----> 1\u001b[0m c_loss \u001b[38;5;241m=\u001b[39m \u001b[43mmcc_loss\u001b[49m\u001b[43m(\u001b[49m\u001b[43mresult_tensor\u001b[49m\u001b[43m,\u001b[49m\u001b[43m \u001b[49m\u001b[43mreweight\u001b[49m\u001b[38;5;241;43m=\u001b[39;49m\u001b[38;5;28;43;01mFalse\u001b[39;49;00m\u001b[43m)\u001b[49m\n\u001b[1;32m      2\u001b[0m c_loss\n",
      "File \u001b[0;32m~/Desktop/Test-time-adaptation-ASR-SUTA/main.py:39\u001b[0m, in \u001b[0;36mmcc_loss\u001b[0;34m(x, reweight, dim, class_num)\u001b[0m\n\u001b[1;32m     37\u001b[0m     cov_matrix_t \u001b[38;5;241m=\u001b[39m p\u001b[38;5;241m.\u001b[39mmul(target_entropy_weight\u001b[38;5;241m.\u001b[39mview(\u001b[38;5;241m-\u001b[39m\u001b[38;5;241m1\u001b[39m, \u001b[38;5;241m1\u001b[39m))\u001b[38;5;241m.\u001b[39mtranspose(\u001b[38;5;241m1\u001b[39m, \u001b[38;5;241m0\u001b[39m)\u001b[38;5;241m.\u001b[39mmm(p)\n\u001b[1;32m     38\u001b[0m \u001b[38;5;28;01melse\u001b[39;00m:    \n\u001b[0;32m---> 39\u001b[0m     cov_matrix_t \u001b[38;5;241m=\u001b[39m \u001b[43mp\u001b[49m\u001b[38;5;241;43m.\u001b[39;49m\u001b[43mtranspose\u001b[49m\u001b[43m(\u001b[49m\u001b[38;5;241;43m1\u001b[39;49m\u001b[43m,\u001b[49m\u001b[43m \u001b[49m\u001b[38;5;241;43m0\u001b[39;49m\u001b[43m)\u001b[49m\u001b[38;5;241;43m.\u001b[39;49m\u001b[43mmm\u001b[49m\u001b[43m(\u001b[49m\u001b[43mp\u001b[49m\u001b[43m)\u001b[49m \u001b[38;5;66;03m# (D, L) * (L, D) -> (D, D)\u001b[39;00m\n\u001b[1;32m     41\u001b[0m cov_matrix_t \u001b[38;5;241m=\u001b[39m cov_matrix_t \u001b[38;5;241m/\u001b[39m torch\u001b[38;5;241m.\u001b[39msum(cov_matrix_t, dim\u001b[38;5;241m=\u001b[39m\u001b[38;5;241m1\u001b[39m)\n\u001b[1;32m     42\u001b[0m mcc_loss \u001b[38;5;241m=\u001b[39m (torch\u001b[38;5;241m.\u001b[39msum(cov_matrix_t) \u001b[38;5;241m-\u001b[39m torch\u001b[38;5;241m.\u001b[39mtrace(cov_matrix_t)) \u001b[38;5;241m/\u001b[39m class_num\n",
      "\u001b[0;31mOutOfMemoryError\u001b[0m: CUDA out of memory. Tried to allocate 10.02 GiB. GPU 0 has a total capacty of 11.72 GiB of which 7.28 GiB is free. Process 1935689 has 1.83 GiB memory in use. Including non-PyTorch memory, this process has 2.14 GiB memory in use. Of the allocated memory 1.80 GiB is allocated by PyTorch, and 145.23 MiB is reserved by PyTorch but unallocated. If reserved but unallocated memory is large try setting max_split_size_mb to avoid fragmentation.  See documentation for Memory Management and PYTORCH_CUDA_ALLOC_CONF"
     ]
    }
   ],
   "source": [
    "c_loss = mcc_loss(result_tensor, reweight=False)\n",
    "c_loss"
   ]
  },
  {
   "cell_type": "code",
   "execution_count": 7,
   "metadata": {},
   "outputs": [
    {
     "ename": "RuntimeError",
     "evalue": "element 0 of tensors does not require grad and does not have a grad_fn",
     "output_type": "error",
     "traceback": [
      "\u001b[0;31m---------------------------------------------------------------------------\u001b[0m",
      "\u001b[0;31mRuntimeError\u001b[0m                              Traceback (most recent call last)",
      "Cell \u001b[0;32mIn[7], line 1\u001b[0m\n\u001b[0;32m----> 1\u001b[0m \u001b[43mloss\u001b[49m\u001b[38;5;241;43m.\u001b[39;49m\u001b[43mbackward\u001b[49m\u001b[43m(\u001b[49m\u001b[43m)\u001b[49m\n\u001b[1;32m      2\u001b[0m optimizer\u001b[38;5;241m.\u001b[39mstep()\n\u001b[1;32m      3\u001b[0m \u001b[38;5;28;01mif\u001b[39;00m scheduler \u001b[38;5;129;01mis\u001b[39;00m \u001b[38;5;129;01mnot\u001b[39;00m \u001b[38;5;28;01mNone\u001b[39;00m: \n",
      "File \u001b[0;32m~/anaconda3/envs/tta/lib/python3.9/site-packages/torch/_tensor.py:492\u001b[0m, in \u001b[0;36mTensor.backward\u001b[0;34m(self, gradient, retain_graph, create_graph, inputs)\u001b[0m\n\u001b[1;32m    482\u001b[0m \u001b[38;5;28;01mif\u001b[39;00m has_torch_function_unary(\u001b[38;5;28mself\u001b[39m):\n\u001b[1;32m    483\u001b[0m     \u001b[38;5;28;01mreturn\u001b[39;00m handle_torch_function(\n\u001b[1;32m    484\u001b[0m         Tensor\u001b[38;5;241m.\u001b[39mbackward,\n\u001b[1;32m    485\u001b[0m         (\u001b[38;5;28mself\u001b[39m,),\n\u001b[0;32m   (...)\u001b[0m\n\u001b[1;32m    490\u001b[0m         inputs\u001b[38;5;241m=\u001b[39minputs,\n\u001b[1;32m    491\u001b[0m     )\n\u001b[0;32m--> 492\u001b[0m \u001b[43mtorch\u001b[49m\u001b[38;5;241;43m.\u001b[39;49m\u001b[43mautograd\u001b[49m\u001b[38;5;241;43m.\u001b[39;49m\u001b[43mbackward\u001b[49m\u001b[43m(\u001b[49m\n\u001b[1;32m    493\u001b[0m \u001b[43m    \u001b[49m\u001b[38;5;28;43mself\u001b[39;49m\u001b[43m,\u001b[49m\u001b[43m \u001b[49m\u001b[43mgradient\u001b[49m\u001b[43m,\u001b[49m\u001b[43m \u001b[49m\u001b[43mretain_graph\u001b[49m\u001b[43m,\u001b[49m\u001b[43m \u001b[49m\u001b[43mcreate_graph\u001b[49m\u001b[43m,\u001b[49m\u001b[43m \u001b[49m\u001b[43minputs\u001b[49m\u001b[38;5;241;43m=\u001b[39;49m\u001b[43minputs\u001b[49m\n\u001b[1;32m    494\u001b[0m \u001b[43m\u001b[49m\u001b[43m)\u001b[49m\n",
      "File \u001b[0;32m~/anaconda3/envs/tta/lib/python3.9/site-packages/torch/autograd/__init__.py:251\u001b[0m, in \u001b[0;36mbackward\u001b[0;34m(tensors, grad_tensors, retain_graph, create_graph, grad_variables, inputs)\u001b[0m\n\u001b[1;32m    246\u001b[0m     retain_graph \u001b[38;5;241m=\u001b[39m create_graph\n\u001b[1;32m    248\u001b[0m \u001b[38;5;66;03m# The reason we repeat the same comment below is that\u001b[39;00m\n\u001b[1;32m    249\u001b[0m \u001b[38;5;66;03m# some Python versions print out the first line of a multi-line function\u001b[39;00m\n\u001b[1;32m    250\u001b[0m \u001b[38;5;66;03m# calls in the traceback and some print out the last line\u001b[39;00m\n\u001b[0;32m--> 251\u001b[0m \u001b[43mVariable\u001b[49m\u001b[38;5;241;43m.\u001b[39;49m\u001b[43m_execution_engine\u001b[49m\u001b[38;5;241;43m.\u001b[39;49m\u001b[43mrun_backward\u001b[49m\u001b[43m(\u001b[49m\u001b[43m  \u001b[49m\u001b[38;5;66;43;03m# Calls into the C++ engine to run the backward pass\u001b[39;49;00m\n\u001b[1;32m    252\u001b[0m \u001b[43m    \u001b[49m\u001b[43mtensors\u001b[49m\u001b[43m,\u001b[49m\n\u001b[1;32m    253\u001b[0m \u001b[43m    \u001b[49m\u001b[43mgrad_tensors_\u001b[49m\u001b[43m,\u001b[49m\n\u001b[1;32m    254\u001b[0m \u001b[43m    \u001b[49m\u001b[43mretain_graph\u001b[49m\u001b[43m,\u001b[49m\n\u001b[1;32m    255\u001b[0m \u001b[43m    \u001b[49m\u001b[43mcreate_graph\u001b[49m\u001b[43m,\u001b[49m\n\u001b[1;32m    256\u001b[0m \u001b[43m    \u001b[49m\u001b[43minputs\u001b[49m\u001b[43m,\u001b[49m\n\u001b[1;32m    257\u001b[0m \u001b[43m    \u001b[49m\u001b[43mallow_unreachable\u001b[49m\u001b[38;5;241;43m=\u001b[39;49m\u001b[38;5;28;43;01mTrue\u001b[39;49;00m\u001b[43m,\u001b[49m\n\u001b[1;32m    258\u001b[0m \u001b[43m    \u001b[49m\u001b[43maccumulate_grad\u001b[49m\u001b[38;5;241;43m=\u001b[39;49m\u001b[38;5;28;43;01mTrue\u001b[39;49;00m\u001b[43m,\u001b[49m\n\u001b[1;32m    259\u001b[0m \u001b[43m\u001b[49m\u001b[43m)\u001b[49m\n",
      "\u001b[0;31mRuntimeError\u001b[0m: element 0 of tensors does not require grad and does not have a grad_fn"
     ]
    }
   ],
   "source": [
    "loss = 0\n",
    "loss += e_loss\n",
    "print(loss)\n",
    "\n",
    "loss.backward()\n",
    "optimizer.step()\n",
    "if scheduler is not None: \n",
    "    scheduler.step()\n",
    "model.zero_grad()\n",
    "\n",
    "\n",
    "# with torch.no_grad():\n",
    "#     outputs = model.decode(mel, options)\n",
    "#     print(outputs)"
   ]
  },
  {
   "cell_type": "code",
   "execution_count": 12,
   "metadata": {},
   "outputs": [
    {
     "name": "stdout",
     "output_type": "stream",
     "text": [
      "The actual primary rainbow observed is said to be the effect of superimposition of a number of bows.\n"
     ]
    }
   ],
   "source": [
    "with torch.no_grad():\n",
    "    outputs = model.decode(mel, options)\n",
    "    print(outputs[0][0].text)"
   ]
  },
  {
   "cell_type": "code",
   "execution_count": null,
   "metadata": {},
   "outputs": [],
   "source": [
    "# for np, p in model.encoder.conv1.named_parameters():\n",
    "#     if np in trainable:\n",
    "#         print(p.grad)"
   ]
  }
 ],
 "metadata": {
  "kernelspec": {
   "display_name": "tta",
   "language": "python",
   "name": "python3"
  },
  "language_info": {
   "codemirror_mode": {
    "name": "ipython",
    "version": 3
   },
   "file_extension": ".py",
   "mimetype": "text/x-python",
   "name": "python",
   "nbconvert_exporter": "python",
   "pygments_lexer": "ipython3",
   "version": "3.9.18"
  }
 },
 "nbformat": 4,
 "nbformat_minor": 2
}
